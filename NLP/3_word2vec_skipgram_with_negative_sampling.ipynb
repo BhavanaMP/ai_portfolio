{
  "nbformat": 4,
  "nbformat_minor": 0,
  "metadata": {
    "colab": {
      "provenance": []
    },
    "kernelspec": {
      "name": "python3",
      "display_name": "Python 3"
    },
    "language_info": {
      "name": "python"
    }
  },
  "cells": [
    {
      "cell_type": "markdown",
      "source": [
        "\n",
        "- Ppr - Distributed Representation of words and phrases and their compositionality\n",
        "\n",
        "- Original SKipgram has expensive softmax operation that deals with all the vocabulary in the denominator of softmax. This is really expensive when the vocabulary is huge.\n",
        "\n",
        "```\n",
        "Q = complexity = C * (1 * D + D * log(V)) # Skipgram\n",
        "Q = complexity = N * D +  D * log(V) # CBOW where N represents the input context words (i/p -> emb projection layer -> output layer)\n",
        "```\n",
        "\n",
        "where 1 * D represents the dimension of input(center word) to embedding weight layer, log(V) represents the logartihm of whole vocab and D * log(V) represents the dimension of embedding to linear output layer weight layer. As the skip gram takes the center word and predcicts the context words, we have this operation for all the context words. Hence we are multiplying by C which represents the context words"
      ],
      "metadata": {
        "id": "TCL-bg1kwSgO"
      }
    },
    {
      "cell_type": "markdown",
      "source": [
        "### The Problem:\n",
        "In Skip-Gram, for each `(center, context)` pair, we try to predict the correct context word from **all words in the vocabulary**.  \n",
        "If your vocab has 50,000 words, this becomes **very slow and expensive**.\n",
        "\n",
        "---\n",
        "\n",
        "### The Idea of Negative Sampling:\n",
        "Instead of predicting over the *whole vocabulary*, we:\n",
        "\n",
        "1. **Keep the real (center, context) pair** — this is the **positive sample**.\n",
        "2. **Randomly sample a few \"wrong\" context words** (not actual neighbors) — these are **negative samples**.\n",
        "3. Train the model to(using softmax):\n",
        "   - Predict **high probability** for positive pairs.\n",
        "   - Predict **low probability** for negative pairs.\n",
        "\n",
        "    Note: Soft part in softmax tries to decrease the value of dissimilar words(denominator) and max part tries to amplify the value fo similar words(numerator)\n",
        "---\n",
        "\n",
        "### Think of it like you're teaching the model:\n",
        "> \"This word goes well with this one (positive), and **these few don’t** (negatives). Learn to tell the difference.\"\n",
        "\n",
        "---\n",
        "\n",
        "### Technically:\n",
        "It changes the loss function from **softmax over the vocab(multinomial classification)** to a simpler **binary classification**:\n",
        "- Label = 1 neighbors (center, context)\n",
        "- Label = 0 non-neighbors (center, random word)\n",
        "- We change the softmax to sigmoid\n",
        "- Essentially now the objective of skipgram model is changed from \"predicting the neighborhood words\" to \"is words are neighbors\"\n",
        "\n",
        "This makes training **much faster and still effective**.\n",
        "\n",
        "In this, the non-negihborhood words are subsampled as negative samples and only consider losses of true context words(positive samples) for the given input target word and backpropagated to deal with expensive softmax operation of the whole vocab.We call it negative sampling, as for a binary classifier we also need samples for negative class along with positive class samples.\n",
        "\n",
        "# Objective of Negative sampling skipgram\n",
        "\n",
        "Maximizing the likelihood of context words given center word(softmax) -> Maximizing the likelihood of positive samples while minimizing the neighborhood of k negative samples(sigmoid)\n",
        "\n",
        "\\begin{equation}\n",
        "log(P(w_{t+j} | w_t)) -> log(σ(u_o^T v_c)) + \\sum_{k=1}^K \\mathbb{E}_{w_i} \\sim P_n(w)\\ log(\\sigma(-u_k^T v_c))\n",
        "\\end{equation}\n",
        "\n",
        "The k negative samples are sampled from a noise distribution P(w) which is essentially the normalized monogram distribution raised to the power of $\\alpha$ where $\\alpha$ is a hyperparameter.\n",
        "\n",
        "**frequent words** (like “the”, “and”, “is”) are a key issue in word2vec, especially for negative sampling.\n",
        "\n",
        "---\n",
        "\n",
        "### Problem with Frequent Words in word2vec negative sampling:\n",
        "Frequent words:\n",
        "- Appear **everywhere**, but carry **little meaning**.\n",
        "- Get sampled a lot as **negatives**, which can dominate training and mess with quality.\n",
        "\n",
        "---\n",
        "\n",
        "### The Fixes:\n",
        "\n",
        "#### 1. **Subsampling frequent words** (during data prep):\n",
        "Word2Vec **randomly discards** very common words (like “the”) during training.\n",
        "\n",
        "> It uses a probability:\n",
        "> \\begin{equation}\n",
        "P(w) = 1 - \\sqrt{\\frac{t}{f(w)}}\n",
        "\\end{equation}\n",
        "\n",
        "- f(w) is the frequency of word w\n",
        "- t is a small threshold (e.g., \\(10^{-5}\\))\n",
        "\n",
        "** This keeps rare words, drops overused ones.**\n",
        "\n",
        "---\n",
        "\n",
        "#### 2. **Smarter negative sampling**:\n",
        "\n",
        "> This means: **frequent words are still more likely**, but not too dominant.\n",
        "When picking negative words:\n",
        "- Don't pick them uniformly.\n",
        "- Sample based on their frequency raised to the **¾ power** (Zipf’s law correction):\n",
        "\n",
        "### Normalized monogram distribution\n",
        "\n",
        "In the paper, authors used normalized monogram distribution for selecting the negative samples.\n",
        "\n",
        "\\begin{equation}\n",
        "P(w) = \\frac{U(w)^{\\alpha}}{Z}\n",
        "\\end{equation}\n",
        "\n",
        "U(w): the raw unigram frequency of word w (how often it appears in the corpus) = freq(w) / total words.\n",
        "α: the smoothing exponent (usually 0.75 - scales up the u(w)).\n",
        "Z: a normalization constant, which ensures that all probabilities sum to 1 where\n",
        "\\begin{equation}\n",
        "Z= \\sum_{w∈V} U(w)^\\alpha\n",
        "\\end{equation}\n",
        "\n",
        "It's just the total over all vocab words after applying the exponent. In paper, authors set Z to a small constant 0.001\n",
        "\n",
        "### Unigram Distribution\n",
        "In paper, authors suggested $\\alpha = \\frac{3}{4}$ has the effect of smoothing the unigram distribution and gave the best results.\n",
        "\n",
        "\\begin{equation}\n",
        "P(w) = \\frac{U(w)^{\\frac{3}{4}}}{Z}\n",
        "\\end{equation}\n",
        "\n",
        "---\n",
        "\n",
        "- Subsampling reduces the **noise** of very common words.\n",
        "- ¾-power negative sampling gives a **balanced training signal**.\n",
        "\n",
        "### Loss\n",
        "\n",
        "\\begin{equation}\n",
        "J_{neg-sample}(v_c, o, U) = -\\ log(σ(u_o^T v_c)) - \\sum_{k=1}^K log(\\sigma(-u_k^T v_c))\n",
        "\\end{equation}\n",
        "\n",
        "\n"
      ],
      "metadata": {
        "id": "06X3YFF22VnL"
      }
    },
    {
      "cell_type": "code",
      "source": [
        "import matplotlib.pyplot as plt\n",
        "import numpy as np\n",
        "import torch\n",
        "import torch.nn as nn\n",
        "import time"
      ],
      "metadata": {
        "id": "Ll_1YWTPNVDK"
      },
      "execution_count": 60,
      "outputs": []
    },
    {
      "cell_type": "code",
      "execution_count": 61,
      "metadata": {
        "id": "yZRFNGc8vZOl"
      },
      "outputs": [],
      "source": [
        "# Prepare data\n",
        "corpus = [\"apple banana fruit\", \"banana apple fruit\", \"banana fruit apple\",\n",
        "                 \"dog cat animal\", \"cat animal dog\", \"cat dog animal\"]\n",
        "corpus = [doc.split(\" \") for doc in corpus]\n",
        "\n",
        "# flatten and generate vocab\n",
        "flatten = lambda c: [w for doc in c for w in doc]\n",
        "vocab = list(set(flatten(corpus)))\n",
        "vocab.append(\"<UNK>\")\n",
        "\n",
        "# Generate idxs\n",
        "word2idx = {word:idx for idx, word in enumerate(vocab)}\n",
        "idx2word = {idx:word for idx, word in enumerate(vocab)}"
      ]
    },
    {
      "cell_type": "code",
      "source": [
        "# Generate target - context pairs (positive samples)\n",
        "def generate_target_context_pairs(corpus, window_size=1):\n",
        "    target_context_pairs = []\n",
        "    tokens = flatten(corpus)\n",
        "    for i in range(window_size, len(tokens)-window_size):\n",
        "        center_word = tokens[i]\n",
        "        ctx_words = tokens[i-window_size:i+window_size]\n",
        "        # ctx_words = tokens[i-window_size:i] + tokens[i+1:i+window_size+1]\n",
        "        ctx_words.remove(center_word)\n",
        "        for ctx in ctx_words:\n",
        "            target_context_pairs.append((word2idx.get(center_word, word2idx[\"<UNK>\"]), word2idx.get(ctx, word2idx[\"<UNK>\"])))\n",
        "\n",
        "    return target_context_pairs"
      ],
      "metadata": {
        "id": "jBpVVHf9PVW5"
      },
      "execution_count": 62,
      "outputs": []
    },
    {
      "cell_type": "code",
      "source": [
        "from collections import Counter\n",
        "word_count = Counter(flatten(corpus))\n",
        "word_count"
      ],
      "metadata": {
        "colab": {
          "base_uri": "https://localhost:8080/"
        },
        "id": "H-VoNudXcQvq",
        "outputId": "4b5c7d98-bdee-4833-9f5e-7ad3d6cbceb6"
      },
      "execution_count": 63,
      "outputs": [
        {
          "output_type": "execute_result",
          "data": {
            "text/plain": [
              "Counter({'apple': 3, 'banana': 3, 'fruit': 3, 'dog': 3, 'cat': 3, 'animal': 3})"
            ]
          },
          "metadata": {},
          "execution_count": 63
        }
      ]
    },
    {
      "cell_type": "code",
      "source": [
        "num_total_words = sum(c for w, c in word_count.items())\n",
        "num_total_words"
      ],
      "metadata": {
        "colab": {
          "base_uri": "https://localhost:8080/"
        },
        "id": "iESN41_zd6zj",
        "outputId": "083d6451-ff0a-457b-b83e-1a75eb8dada5"
      },
      "execution_count": 64,
      "outputs": [
        {
          "output_type": "execute_result",
          "data": {
            "text/plain": [
              "18"
            ]
          },
          "metadata": {},
          "execution_count": 64
        }
      ]
    },
    {
      "cell_type": "code",
      "source": [
        "vocab"
      ],
      "metadata": {
        "colab": {
          "base_uri": "https://localhost:8080/"
        },
        "id": "mT_ZjhHzvM63",
        "outputId": "2466bc01-86e5-442b-c884-bc440bd598c6"
      },
      "execution_count": 92,
      "outputs": [
        {
          "output_type": "execute_result",
          "data": {
            "text/plain": [
              "['cat', 'apple', 'dog', 'fruit', 'banana', 'animal', '<UNK>']"
            ]
          },
          "metadata": {},
          "execution_count": 92
        }
      ]
    },
    {
      "cell_type": "code",
      "source": [
        "unigram_table = []\n",
        "z = 0.001\n",
        "\n",
        "for w in vocab:\n",
        "    p = int(((word_count[w] / num_total_words)**0.75)/z)\n",
        "    unigram_table.extend([w] * p)\n",
        "\n",
        "print(unigram_table)\n",
        "Counter(unigram_table)"
      ],
      "metadata": {
        "colab": {
          "base_uri": "https://localhost:8080/"
        },
        "id": "ahgV4Tb6ekT4",
        "outputId": "9b370565-15b8-4efc-f1f6-d7cd212ff00c"
      },
      "execution_count": 65,
      "outputs": [
        {
          "output_type": "stream",
          "name": "stdout",
          "text": [
            "['cat', 'cat', 'cat', 'cat', 'cat', 'cat', 'cat', 'cat', 'cat', 'cat', 'cat', 'cat', 'cat', 'cat', 'cat', 'cat', 'cat', 'cat', 'cat', 'cat', 'cat', 'cat', 'cat', 'cat', 'cat', 'cat', 'cat', 'cat', 'cat', 'cat', 'cat', 'cat', 'cat', 'cat', 'cat', 'cat', 'cat', 'cat', 'cat', 'cat', 'cat', 'cat', 'cat', 'cat', 'cat', 'cat', 'cat', 'cat', 'cat', 'cat', 'cat', 'cat', 'cat', 'cat', 'cat', 'cat', 'cat', 'cat', 'cat', 'cat', 'cat', 'cat', 'cat', 'cat', 'cat', 'cat', 'cat', 'cat', 'cat', 'cat', 'cat', 'cat', 'cat', 'cat', 'cat', 'cat', 'cat', 'cat', 'cat', 'cat', 'cat', 'cat', 'cat', 'cat', 'cat', 'cat', 'cat', 'cat', 'cat', 'cat', 'cat', 'cat', 'cat', 'cat', 'cat', 'cat', 'cat', 'cat', 'cat', 'cat', 'cat', 'cat', 'cat', 'cat', 'cat', 'cat', 'cat', 'cat', 'cat', 'cat', 'cat', 'cat', 'cat', 'cat', 'cat', 'cat', 'cat', 'cat', 'cat', 'cat', 'cat', 'cat', 'cat', 'cat', 'cat', 'cat', 'cat', 'cat', 'cat', 'cat', 'cat', 'cat', 'cat', 'cat', 'cat', 'cat', 'cat', 'cat', 'cat', 'cat', 'cat', 'cat', 'cat', 'cat', 'cat', 'cat', 'cat', 'cat', 'cat', 'cat', 'cat', 'cat', 'cat', 'cat', 'cat', 'cat', 'cat', 'cat', 'cat', 'cat', 'cat', 'cat', 'cat', 'cat', 'cat', 'cat', 'cat', 'cat', 'cat', 'cat', 'cat', 'cat', 'cat', 'cat', 'cat', 'cat', 'cat', 'cat', 'cat', 'cat', 'cat', 'cat', 'cat', 'cat', 'cat', 'cat', 'cat', 'cat', 'cat', 'cat', 'cat', 'cat', 'cat', 'cat', 'cat', 'cat', 'cat', 'cat', 'cat', 'cat', 'cat', 'cat', 'cat', 'cat', 'cat', 'cat', 'cat', 'cat', 'cat', 'cat', 'cat', 'cat', 'cat', 'cat', 'cat', 'cat', 'cat', 'cat', 'cat', 'cat', 'cat', 'cat', 'cat', 'cat', 'cat', 'cat', 'cat', 'cat', 'cat', 'cat', 'cat', 'cat', 'cat', 'cat', 'cat', 'cat', 'cat', 'cat', 'cat', 'cat', 'cat', 'cat', 'cat', 'cat', 'cat', 'cat', 'cat', 'cat', 'cat', 'cat', 'cat', 'cat', 'cat', 'cat', 'cat', 'cat', 'cat', 'cat', 'cat', 'cat', 'apple', 'apple', 'apple', 'apple', 'apple', 'apple', 'apple', 'apple', 'apple', 'apple', 'apple', 'apple', 'apple', 'apple', 'apple', 'apple', 'apple', 'apple', 'apple', 'apple', 'apple', 'apple', 'apple', 'apple', 'apple', 'apple', 'apple', 'apple', 'apple', 'apple', 'apple', 'apple', 'apple', 'apple', 'apple', 'apple', 'apple', 'apple', 'apple', 'apple', 'apple', 'apple', 'apple', 'apple', 'apple', 'apple', 'apple', 'apple', 'apple', 'apple', 'apple', 'apple', 'apple', 'apple', 'apple', 'apple', 'apple', 'apple', 'apple', 'apple', 'apple', 'apple', 'apple', 'apple', 'apple', 'apple', 'apple', 'apple', 'apple', 'apple', 'apple', 'apple', 'apple', 'apple', 'apple', 'apple', 'apple', 'apple', 'apple', 'apple', 'apple', 'apple', 'apple', 'apple', 'apple', 'apple', 'apple', 'apple', 'apple', 'apple', 'apple', 'apple', 'apple', 'apple', 'apple', 'apple', 'apple', 'apple', 'apple', 'apple', 'apple', 'apple', 'apple', 'apple', 'apple', 'apple', 'apple', 'apple', 'apple', 'apple', 'apple', 'apple', 'apple', 'apple', 'apple', 'apple', 'apple', 'apple', 'apple', 'apple', 'apple', 'apple', 'apple', 'apple', 'apple', 'apple', 'apple', 'apple', 'apple', 'apple', 'apple', 'apple', 'apple', 'apple', 'apple', 'apple', 'apple', 'apple', 'apple', 'apple', 'apple', 'apple', 'apple', 'apple', 'apple', 'apple', 'apple', 'apple', 'apple', 'apple', 'apple', 'apple', 'apple', 'apple', 'apple', 'apple', 'apple', 'apple', 'apple', 'apple', 'apple', 'apple', 'apple', 'apple', 'apple', 'apple', 'apple', 'apple', 'apple', 'apple', 'apple', 'apple', 'apple', 'apple', 'apple', 'apple', 'apple', 'apple', 'apple', 'apple', 'apple', 'apple', 'apple', 'apple', 'apple', 'apple', 'apple', 'apple', 'apple', 'apple', 'apple', 'apple', 'apple', 'apple', 'apple', 'apple', 'apple', 'apple', 'apple', 'apple', 'apple', 'apple', 'apple', 'apple', 'apple', 'apple', 'apple', 'apple', 'apple', 'apple', 'apple', 'apple', 'apple', 'apple', 'apple', 'apple', 'apple', 'apple', 'apple', 'apple', 'apple', 'apple', 'apple', 'apple', 'apple', 'apple', 'apple', 'apple', 'apple', 'apple', 'apple', 'apple', 'apple', 'apple', 'apple', 'apple', 'apple', 'apple', 'apple', 'apple', 'apple', 'apple', 'apple', 'apple', 'apple', 'apple', 'apple', 'apple', 'apple', 'apple', 'apple', 'apple', 'apple', 'apple', 'apple', 'apple', 'apple', 'apple', 'apple', 'apple', 'dog', 'dog', 'dog', 'dog', 'dog', 'dog', 'dog', 'dog', 'dog', 'dog', 'dog', 'dog', 'dog', 'dog', 'dog', 'dog', 'dog', 'dog', 'dog', 'dog', 'dog', 'dog', 'dog', 'dog', 'dog', 'dog', 'dog', 'dog', 'dog', 'dog', 'dog', 'dog', 'dog', 'dog', 'dog', 'dog', 'dog', 'dog', 'dog', 'dog', 'dog', 'dog', 'dog', 'dog', 'dog', 'dog', 'dog', 'dog', 'dog', 'dog', 'dog', 'dog', 'dog', 'dog', 'dog', 'dog', 'dog', 'dog', 'dog', 'dog', 'dog', 'dog', 'dog', 'dog', 'dog', 'dog', 'dog', 'dog', 'dog', 'dog', 'dog', 'dog', 'dog', 'dog', 'dog', 'dog', 'dog', 'dog', 'dog', 'dog', 'dog', 'dog', 'dog', 'dog', 'dog', 'dog', 'dog', 'dog', 'dog', 'dog', 'dog', 'dog', 'dog', 'dog', 'dog', 'dog', 'dog', 'dog', 'dog', 'dog', 'dog', 'dog', 'dog', 'dog', 'dog', 'dog', 'dog', 'dog', 'dog', 'dog', 'dog', 'dog', 'dog', 'dog', 'dog', 'dog', 'dog', 'dog', 'dog', 'dog', 'dog', 'dog', 'dog', 'dog', 'dog', 'dog', 'dog', 'dog', 'dog', 'dog', 'dog', 'dog', 'dog', 'dog', 'dog', 'dog', 'dog', 'dog', 'dog', 'dog', 'dog', 'dog', 'dog', 'dog', 'dog', 'dog', 'dog', 'dog', 'dog', 'dog', 'dog', 'dog', 'dog', 'dog', 'dog', 'dog', 'dog', 'dog', 'dog', 'dog', 'dog', 'dog', 'dog', 'dog', 'dog', 'dog', 'dog', 'dog', 'dog', 'dog', 'dog', 'dog', 'dog', 'dog', 'dog', 'dog', 'dog', 'dog', 'dog', 'dog', 'dog', 'dog', 'dog', 'dog', 'dog', 'dog', 'dog', 'dog', 'dog', 'dog', 'dog', 'dog', 'dog', 'dog', 'dog', 'dog', 'dog', 'dog', 'dog', 'dog', 'dog', 'dog', 'dog', 'dog', 'dog', 'dog', 'dog', 'dog', 'dog', 'dog', 'dog', 'dog', 'dog', 'dog', 'dog', 'dog', 'dog', 'dog', 'dog', 'dog', 'dog', 'dog', 'dog', 'dog', 'dog', 'dog', 'dog', 'dog', 'dog', 'dog', 'dog', 'dog', 'dog', 'dog', 'dog', 'dog', 'dog', 'dog', 'dog', 'dog', 'dog', 'dog', 'dog', 'dog', 'dog', 'dog', 'dog', 'dog', 'dog', 'dog', 'dog', 'dog', 'dog', 'dog', 'dog', 'dog', 'dog', 'dog', 'dog', 'dog', 'fruit', 'fruit', 'fruit', 'fruit', 'fruit', 'fruit', 'fruit', 'fruit', 'fruit', 'fruit', 'fruit', 'fruit', 'fruit', 'fruit', 'fruit', 'fruit', 'fruit', 'fruit', 'fruit', 'fruit', 'fruit', 'fruit', 'fruit', 'fruit', 'fruit', 'fruit', 'fruit', 'fruit', 'fruit', 'fruit', 'fruit', 'fruit', 'fruit', 'fruit', 'fruit', 'fruit', 'fruit', 'fruit', 'fruit', 'fruit', 'fruit', 'fruit', 'fruit', 'fruit', 'fruit', 'fruit', 'fruit', 'fruit', 'fruit', 'fruit', 'fruit', 'fruit', 'fruit', 'fruit', 'fruit', 'fruit', 'fruit', 'fruit', 'fruit', 'fruit', 'fruit', 'fruit', 'fruit', 'fruit', 'fruit', 'fruit', 'fruit', 'fruit', 'fruit', 'fruit', 'fruit', 'fruit', 'fruit', 'fruit', 'fruit', 'fruit', 'fruit', 'fruit', 'fruit', 'fruit', 'fruit', 'fruit', 'fruit', 'fruit', 'fruit', 'fruit', 'fruit', 'fruit', 'fruit', 'fruit', 'fruit', 'fruit', 'fruit', 'fruit', 'fruit', 'fruit', 'fruit', 'fruit', 'fruit', 'fruit', 'fruit', 'fruit', 'fruit', 'fruit', 'fruit', 'fruit', 'fruit', 'fruit', 'fruit', 'fruit', 'fruit', 'fruit', 'fruit', 'fruit', 'fruit', 'fruit', 'fruit', 'fruit', 'fruit', 'fruit', 'fruit', 'fruit', 'fruit', 'fruit', 'fruit', 'fruit', 'fruit', 'fruit', 'fruit', 'fruit', 'fruit', 'fruit', 'fruit', 'fruit', 'fruit', 'fruit', 'fruit', 'fruit', 'fruit', 'fruit', 'fruit', 'fruit', 'fruit', 'fruit', 'fruit', 'fruit', 'fruit', 'fruit', 'fruit', 'fruit', 'fruit', 'fruit', 'fruit', 'fruit', 'fruit', 'fruit', 'fruit', 'fruit', 'fruit', 'fruit', 'fruit', 'fruit', 'fruit', 'fruit', 'fruit', 'fruit', 'fruit', 'fruit', 'fruit', 'fruit', 'fruit', 'fruit', 'fruit', 'fruit', 'fruit', 'fruit', 'fruit', 'fruit', 'fruit', 'fruit', 'fruit', 'fruit', 'fruit', 'fruit', 'fruit', 'fruit', 'fruit', 'fruit', 'fruit', 'fruit', 'fruit', 'fruit', 'fruit', 'fruit', 'fruit', 'fruit', 'fruit', 'fruit', 'fruit', 'fruit', 'fruit', 'fruit', 'fruit', 'fruit', 'fruit', 'fruit', 'fruit', 'fruit', 'fruit', 'fruit', 'fruit', 'fruit', 'fruit', 'fruit', 'fruit', 'fruit', 'fruit', 'fruit', 'fruit', 'fruit', 'fruit', 'fruit', 'fruit', 'fruit', 'fruit', 'fruit', 'fruit', 'fruit', 'fruit', 'fruit', 'fruit', 'fruit', 'fruit', 'fruit', 'fruit', 'fruit', 'fruit', 'fruit', 'fruit', 'fruit', 'fruit', 'fruit', 'fruit', 'fruit', 'fruit', 'fruit', 'fruit', 'fruit', 'fruit', 'fruit', 'fruit', 'fruit', 'fruit', 'fruit', 'fruit', 'fruit', 'fruit', 'fruit', 'fruit', 'fruit', 'banana', 'banana', 'banana', 'banana', 'banana', 'banana', 'banana', 'banana', 'banana', 'banana', 'banana', 'banana', 'banana', 'banana', 'banana', 'banana', 'banana', 'banana', 'banana', 'banana', 'banana', 'banana', 'banana', 'banana', 'banana', 'banana', 'banana', 'banana', 'banana', 'banana', 'banana', 'banana', 'banana', 'banana', 'banana', 'banana', 'banana', 'banana', 'banana', 'banana', 'banana', 'banana', 'banana', 'banana', 'banana', 'banana', 'banana', 'banana', 'banana', 'banana', 'banana', 'banana', 'banana', 'banana', 'banana', 'banana', 'banana', 'banana', 'banana', 'banana', 'banana', 'banana', 'banana', 'banana', 'banana', 'banana', 'banana', 'banana', 'banana', 'banana', 'banana', 'banana', 'banana', 'banana', 'banana', 'banana', 'banana', 'banana', 'banana', 'banana', 'banana', 'banana', 'banana', 'banana', 'banana', 'banana', 'banana', 'banana', 'banana', 'banana', 'banana', 'banana', 'banana', 'banana', 'banana', 'banana', 'banana', 'banana', 'banana', 'banana', 'banana', 'banana', 'banana', 'banana', 'banana', 'banana', 'banana', 'banana', 'banana', 'banana', 'banana', 'banana', 'banana', 'banana', 'banana', 'banana', 'banana', 'banana', 'banana', 'banana', 'banana', 'banana', 'banana', 'banana', 'banana', 'banana', 'banana', 'banana', 'banana', 'banana', 'banana', 'banana', 'banana', 'banana', 'banana', 'banana', 'banana', 'banana', 'banana', 'banana', 'banana', 'banana', 'banana', 'banana', 'banana', 'banana', 'banana', 'banana', 'banana', 'banana', 'banana', 'banana', 'banana', 'banana', 'banana', 'banana', 'banana', 'banana', 'banana', 'banana', 'banana', 'banana', 'banana', 'banana', 'banana', 'banana', 'banana', 'banana', 'banana', 'banana', 'banana', 'banana', 'banana', 'banana', 'banana', 'banana', 'banana', 'banana', 'banana', 'banana', 'banana', 'banana', 'banana', 'banana', 'banana', 'banana', 'banana', 'banana', 'banana', 'banana', 'banana', 'banana', 'banana', 'banana', 'banana', 'banana', 'banana', 'banana', 'banana', 'banana', 'banana', 'banana', 'banana', 'banana', 'banana', 'banana', 'banana', 'banana', 'banana', 'banana', 'banana', 'banana', 'banana', 'banana', 'banana', 'banana', 'banana', 'banana', 'banana', 'banana', 'banana', 'banana', 'banana', 'banana', 'banana', 'banana', 'banana', 'banana', 'banana', 'banana', 'banana', 'banana', 'banana', 'banana', 'banana', 'banana', 'banana', 'banana', 'banana', 'banana', 'banana', 'banana', 'banana', 'banana', 'banana', 'banana', 'banana', 'banana', 'banana', 'banana', 'banana', 'banana', 'banana', 'banana', 'banana', 'banana', 'banana', 'banana', 'banana', 'banana', 'animal', 'animal', 'animal', 'animal', 'animal', 'animal', 'animal', 'animal', 'animal', 'animal', 'animal', 'animal', 'animal', 'animal', 'animal', 'animal', 'animal', 'animal', 'animal', 'animal', 'animal', 'animal', 'animal', 'animal', 'animal', 'animal', 'animal', 'animal', 'animal', 'animal', 'animal', 'animal', 'animal', 'animal', 'animal', 'animal', 'animal', 'animal', 'animal', 'animal', 'animal', 'animal', 'animal', 'animal', 'animal', 'animal', 'animal', 'animal', 'animal', 'animal', 'animal', 'animal', 'animal', 'animal', 'animal', 'animal', 'animal', 'animal', 'animal', 'animal', 'animal', 'animal', 'animal', 'animal', 'animal', 'animal', 'animal', 'animal', 'animal', 'animal', 'animal', 'animal', 'animal', 'animal', 'animal', 'animal', 'animal', 'animal', 'animal', 'animal', 'animal', 'animal', 'animal', 'animal', 'animal', 'animal', 'animal', 'animal', 'animal', 'animal', 'animal', 'animal', 'animal', 'animal', 'animal', 'animal', 'animal', 'animal', 'animal', 'animal', 'animal', 'animal', 'animal', 'animal', 'animal', 'animal', 'animal', 'animal', 'animal', 'animal', 'animal', 'animal', 'animal', 'animal', 'animal', 'animal', 'animal', 'animal', 'animal', 'animal', 'animal', 'animal', 'animal', 'animal', 'animal', 'animal', 'animal', 'animal', 'animal', 'animal', 'animal', 'animal', 'animal', 'animal', 'animal', 'animal', 'animal', 'animal', 'animal', 'animal', 'animal', 'animal', 'animal', 'animal', 'animal', 'animal', 'animal', 'animal', 'animal', 'animal', 'animal', 'animal', 'animal', 'animal', 'animal', 'animal', 'animal', 'animal', 'animal', 'animal', 'animal', 'animal', 'animal', 'animal', 'animal', 'animal', 'animal', 'animal', 'animal', 'animal', 'animal', 'animal', 'animal', 'animal', 'animal', 'animal', 'animal', 'animal', 'animal', 'animal', 'animal', 'animal', 'animal', 'animal', 'animal', 'animal', 'animal', 'animal', 'animal', 'animal', 'animal', 'animal', 'animal', 'animal', 'animal', 'animal', 'animal', 'animal', 'animal', 'animal', 'animal', 'animal', 'animal', 'animal', 'animal', 'animal', 'animal', 'animal', 'animal', 'animal', 'animal', 'animal', 'animal', 'animal', 'animal', 'animal', 'animal', 'animal', 'animal', 'animal', 'animal', 'animal', 'animal', 'animal', 'animal', 'animal', 'animal', 'animal', 'animal', 'animal', 'animal', 'animal', 'animal', 'animal', 'animal', 'animal', 'animal', 'animal', 'animal', 'animal', 'animal', 'animal', 'animal', 'animal', 'animal', 'animal', 'animal', 'animal', 'animal', 'animal', 'animal', 'animal', 'animal', 'animal', 'animal', 'animal', 'animal', 'animal', 'animal', 'animal']\n"
          ]
        },
        {
          "output_type": "execute_result",
          "data": {
            "text/plain": [
              "Counter({'cat': 260,\n",
              "         'apple': 260,\n",
              "         'dog': 260,\n",
              "         'fruit': 260,\n",
              "         'banana': 260,\n",
              "         'animal': 260})"
            ]
          },
          "metadata": {},
          "execution_count": 65
        }
      ]
    },
    {
      "cell_type": "code",
      "source": [
        "neg = np.random.choice(unigram_table)\n",
        "neg"
      ],
      "metadata": {
        "colab": {
          "base_uri": "https://localhost:8080/",
          "height": 34
        },
        "id": "uRDN93bpngR8",
        "outputId": "68b61704-371a-424c-faf3-6c73b6b213fb"
      },
      "execution_count": 66,
      "outputs": [
        {
          "output_type": "execute_result",
          "data": {
            "text/plain": [
              "np.str_('animal')"
            ],
            "application/vnd.google.colaboratory.intrinsic+json": {
              "type": "string"
            }
          },
          "metadata": {},
          "execution_count": 66
        }
      ]
    },
    {
      "cell_type": "code",
      "source": [
        "word2idx[neg]"
      ],
      "metadata": {
        "colab": {
          "base_uri": "https://localhost:8080/"
        },
        "id": "2Tzm_XJAnjoy",
        "outputId": "1bc21132-9391-4a6c-95a8-ae302468e738"
      },
      "execution_count": 67,
      "outputs": [
        {
          "output_type": "execute_result",
          "data": {
            "text/plain": [
              "5"
            ]
          },
          "metadata": {},
          "execution_count": 67
        }
      ]
    },
    {
      "cell_type": "code",
      "source": [
        "def prepare_sequence(sequence, word2idx):\n",
        "    idxs = list(map(lambda w: word2idx[w] if word2idx.get(w) is not None else word2idx[\"<UNK>\"], sequence))\n",
        "    return torch.LongTensor([idxs])"
      ],
      "metadata": {
        "id": "V4G4ov29jZm3"
      },
      "execution_count": 88,
      "outputs": []
    },
    {
      "cell_type": "code",
      "source": [
        "# Generate Negative samples\n",
        "def generate_negative_samples(targets, unigram_table, k=5):\n",
        "    # for each positive sample in the batch, we create k negative samples\n",
        "    batch_size = targets.size(0)\n",
        "    negative_samples = []\n",
        "    for i in range(batch_size):\n",
        "        k_samples = []\n",
        "        target_idx = targets[i][0].item()\n",
        "        while len(k_samples) < k:  # num of sampling\n",
        "            neg = np.random.choice(unigram_table)\n",
        "            if word2idx[neg] == target_idx:\n",
        "                continue\n",
        "            k_samples.append(neg)\n",
        "        negative_samples.append(prepare_sequence(k_samples, word2idx).view(1, -1))\n",
        "    return torch.cat(negative_samples)"
      ],
      "metadata": {
        "id": "nmfU_I_7No9v"
      },
      "execution_count": 83,
      "outputs": []
    },
    {
      "cell_type": "code",
      "source": [
        "# Model\n",
        "class SkipGramNegativeSampling(nn.Module):\n",
        "    def __init__(self, voc_size, embed_size) -> None:\n",
        "        super().__init__()\n",
        "        self.embedding_in = nn.Embedding(voc_size, embed_size) # center embedding\n",
        "        self.embedding_out = nn.Embedding(voc_size, embed_size) # ctx embedding\n",
        "        self.log_sigmoid = nn.LogSigmoid()\n",
        "\n",
        "    def forward(self, center_words, context_words, negative_samples):\n",
        "        center_embeddings = self.embedding_in(center_words)                                         # (bs, 1, embed_size)\n",
        "        ctx_embeddings = self.embedding_out(context_words)                                          # (bs, 1, embed_size)\n",
        "        negative_embeddings = self.embedding_out(negative_samples)                                  # (bs, k, embed_size)\n",
        "        positive_score = ctx_embeddings.bmm(center_embeddings.transpose(1, 2)).squeeze(2)           # (bs, 1, embed_size), (bs, embed_size, 1) -> (bs, 1, 1) -> (bs, 1)\n",
        "        negative_score = -negative_embeddings.bmm(center_embeddings.transpose(1, 2)).squeeze(2)     # (bs, k, embed_size), (bs, embed_size, 1) -> (bs, k, 1) -> (bs, k)\n",
        "        loss = self.log_sigmoid(positive_score) + torch.sum(self.log_sigmoid(negative_score), 1)\n",
        "        return -torch.mean(loss)\n",
        "\n",
        "    def prediction(self, inputs):\n",
        "        embeds = self.embedding_in(inputs)\n",
        "        return embeds\n"
      ],
      "metadata": {
        "id": "imBDcFe3Pggh"
      },
      "execution_count": 84,
      "outputs": []
    },
    {
      "cell_type": "code",
      "source": [
        "# Hyperparameters\n",
        "epochs = 10000\n",
        "bs = 2\n",
        "k = 10\n",
        "lr = 1e-2\n",
        "window_size = 1\n",
        "embed_size = 2"
      ],
      "metadata": {
        "id": "lBJFGJLlPtPW"
      },
      "execution_count": 95,
      "outputs": []
    },
    {
      "cell_type": "code",
      "source": [
        "def epoch_time(start_time, end_time):\n",
        "    elapsed_time = end_time - start_time\n",
        "    elapsed_mins = int(elapsed_time / 60)\n",
        "    elapsed_secs = int(elapsed_time - (elapsed_mins * 60))\n",
        "    return elapsed_mins, elapsed_secs"
      ],
      "metadata": {
        "id": "AyS_p0hAoMrh"
      },
      "execution_count": 96,
      "outputs": []
    },
    {
      "cell_type": "code",
      "source": [
        "# Training\n",
        "voc_size = len(vocab)\n",
        "target_context_pairs = generate_target_context_pairs(corpus, window_size)\n",
        "data = torch.LongTensor(target_context_pairs)  # torch.Size([2, 16])\n",
        "X = data[:, 0]   # torch.Size([16])\n",
        "Y = data[:, 1]   # torch.Size([16])\n",
        "\n",
        "model = SkipGramNegativeSampling(voc_size, embed_size)\n",
        "optimizer = torch.optim.Adam(model.parameters(), lr=lr)\n",
        "\n",
        "# Training Loop\n",
        "for epoch in range(epochs):\n",
        "    start = time.time()\n",
        "    perm = torch.randperm(n=len(X))\n",
        "    X_train = X[perm]\n",
        "    Y_train = Y[perm]\n",
        "    for i in range(0, len(X_train), bs):\n",
        "        input_ctr_batch = X_train[i:i+bs].reshape(-1, 1)     # (bs, 1)\n",
        "        true_ctx_batch = Y_train[i:i+bs].reshape(-1, 1)      # (bs, 1)\n",
        "        negative_batch = generate_negative_samples(true_ctx_batch, unigram_table, k)   # (bs, k)\n",
        "        optimizer.zero_grad()\n",
        "        loss = model(input_ctr_batch, true_ctx_batch, negative_batch)\n",
        "        loss.backward()\n",
        "        optimizer.step()\n",
        "\n",
        "    end = time.time()\n",
        "    epoch_mins, epoch_secs = epoch_time(start, end)\n",
        "    if (epoch + 1) % 1000 == 0:\n",
        "            print(f\"Epoch: {epoch + 1} | cost: {loss:.6f} | time: {epoch_mins}m {epoch_secs}s\")\n",
        "\n"
      ],
      "metadata": {
        "colab": {
          "base_uri": "https://localhost:8080/"
        },
        "id": "YuSwnKhPPhgu",
        "outputId": "260a5b4a-e522-4a4b-a767-53a46deb7b97"
      },
      "execution_count": 97,
      "outputs": [
        {
          "output_type": "stream",
          "name": "stdout",
          "text": [
            "Epoch: 1000 | cost: 2.901998 | time: 0m 0s\n",
            "Epoch: 2000 | cost: 3.229792 | time: 0m 0s\n",
            "Epoch: 3000 | cost: 2.217482 | time: 0m 0s\n",
            "Epoch: 4000 | cost: 2.259561 | time: 0m 0s\n",
            "Epoch: 5000 | cost: 0.877680 | time: 0m 0s\n",
            "Epoch: 6000 | cost: 2.805129 | time: 0m 0s\n",
            "Epoch: 7000 | cost: 1.327579 | time: 0m 0s\n",
            "Epoch: 8000 | cost: 3.390716 | time: 0m 0s\n",
            "Epoch: 9000 | cost: 1.892427 | time: 0m 0s\n",
            "Epoch: 10000 | cost: 2.916023 | time: 0m 0s\n"
          ]
        }
      ]
    },
    {
      "cell_type": "code",
      "source": [
        "# Plotting\n",
        "#get embedding given a word\n",
        "def get_embed(word):\n",
        "    id_tensor = torch.LongTensor([word2idx[word]])\n",
        "    embed_ctr = model.embedding_in(id_tensor)\n",
        "    embed_ctx = model.embedding_out(id_tensor)\n",
        "    word_embed = (embed_ctr + embed_ctx) / 2\n",
        "    x, y = word_embed[0][0].item(), word_embed[0][1].item()\n",
        "    return x, y"
      ],
      "metadata": {
        "id": "prpWNBnJPjG7"
      },
      "execution_count": 98,
      "outputs": []
    },
    {
      "cell_type": "code",
      "source": [
        "plt.figure(figsize=(6,3))\n",
        "for i, word in enumerate(vocab[:20]):\n",
        "    x, y = get_embed(word)\n",
        "    plt.scatter(x, y)\n",
        "    plt.annotate(word, xy=(x, y), xytext=(5, 2), textcoords='offset points')\n",
        "plt.show()"
      ],
      "metadata": {
        "colab": {
          "base_uri": "https://localhost:8080/",
          "height": 295
        },
        "id": "lYSxfUKPp_Pc",
        "outputId": "061a0739-a002-4ef3-dbdd-605d762111f0"
      },
      "execution_count": 99,
      "outputs": [
        {
          "output_type": "display_data",
          "data": {
            "text/plain": [
              "<Figure size 600x300 with 1 Axes>"
            ],
            "image/png": "[encoded data removed]"
          },
          "metadata": {}
        }
      ]
    },
    {
      "cell_type": "code",
      "source": [
        "from numpy import dot\n",
        "from numpy.linalg import norm\n",
        "\n",
        "def cos_sim(a, b):\n",
        "    cos_sim = dot(a, b)/(norm(a)*norm(b))\n",
        "    return cos_sim\n",
        "\n",
        "print(f\"cat vs. fruit: \", cos_sim(get_embed(\"cat\"), get_embed(\"fruit\")))\n",
        "print(f\"cat vs. animal: \", cos_sim(get_embed(\"cat\"), get_embed(\"animal\")))\n",
        "print(f\"cat vs. cat: \", cos_sim(get_embed(\"cat\"), get_embed(\"cat\")))"
      ],
      "metadata": {
        "colab": {
          "base_uri": "https://localhost:8080/"
        },
        "id": "bdCj1iCIZxD_",
        "outputId": "edcccc44-79fd-46aa-b8e9-013643134e96"
      },
      "execution_count": 132,
      "outputs": [
        {
          "output_type": "stream",
          "name": "stdout",
          "text": [
            "cat vs. fruit:  -0.20431112170076685\n",
            "cat vs. animal:  0.4034859501457187\n",
            "cat vs. cat:  1.0000000000000002\n"
          ]
        }
      ]
    },
    {
      "cell_type": "code",
      "source": [
        "import matplotlib.pyplot as plt\n",
        "import numpy as np\n",
        "import torch\n",
        "import torch.nn as nn\n",
        "import time\n",
        "\n",
        "# Prepare data\n",
        "corpus = [\"apple banana fruit\",\n",
        "          \"banana apple fruit\",\n",
        "          \"banana fruit apple\",\n",
        "          \"dog cat animal\",\n",
        "          \"cat animal dog\",\n",
        "          \"cat dog animal\"]\n",
        "corpus = [doc.split(\" \") for doc in corpus]\n",
        "\n",
        "# flatten and generate vocab\n",
        "flatten = lambda c: [w for doc in c for w in doc]\n",
        "vocab = list(set(flatten(corpus)))\n",
        "vocab.append(\"<UNK>\")\n",
        "\n",
        "# Generate idxs\n",
        "word2idx = {word:idx for idx, word in enumerate(vocab)}\n",
        "idx2word = {idx:word for idx, word in enumerate(vocab)}\n",
        "\n",
        "# Generate target - context pairs (positive samples)\n",
        "def generate_target_context_pairs(corpus, window_size=1):\n",
        "    target_context_pairs = []\n",
        "    tokens = flatten(corpus)\n",
        "    for i in range(window_size, len(tokens)-window_size):\n",
        "        center_word = tokens[i]\n",
        "        ctx_words = tokens[i-window_size:i+window_size]\n",
        "        # ctx_words = tokens[i-window_size:i] + tokens[i+1:i+window_size+1]\n",
        "        ctx_words.remove(center_word)\n",
        "        for ctx in ctx_words:\n",
        "            target_context_pairs.append((word2idx.get(center_word, word2idx[\"<UNK>\"]), word2idx.get(ctx, word2idx[\"<UNK>\"])))\n",
        "    return target_context_pairs\n",
        "\n",
        "def generate_unigram_table(corpus, alpha=0.75, table_size=1000):\n",
        "    unigram_table = []\n",
        "    tokens = flatten(corpus)\n",
        "    word_counts = Counter(tokens)\n",
        "    vocab = list(word_counts.keys())\n",
        "    freq_alpha = []\n",
        "    for w in vocab:\n",
        "        raw_freq = (word_counts[w])**alpha  # raw freq instead of relative freq\n",
        "        freq_alpha.append(raw_freq)\n",
        "    freq_alpha = np.array(freq_alpha, dtype=np.float64)\n",
        "    probs = freq_alpha / freq_alpha.sum()    # original smoothening instead of constant z=0.001(multiplying by 1000)\n",
        "    counts_in_table = np.maximum((probs * table_size).round().astype(int), 1)\n",
        "    for word, cnt in zip(vocab, counts_in_table):\n",
        "        unigram_table.extend([word] * cnt)\n",
        "    if len(unigram_table) > table_size:\n",
        "        unigram_table = unigram_table[:table_size]\n",
        "    else:\n",
        "        while len(unigram_table) < table_size:\n",
        "            unigram_table.append(np.random.choice(vocab, p=probs))\n",
        "    return unigram_table\n",
        "\n",
        "def prepare_sequence(seq, word2idx):\n",
        "    idxs = list(map(lambda w: word2idx.get(w, \"<UNK>\"), seq))\n",
        "    return torch.LongTensor(idxs)\n",
        "\n",
        "def generate_negative_samples(targets, unigram_table, k):\n",
        "    negative_samples = []\n",
        "    batch_size = targets.size(0)\n",
        "    for i in range(batch_size):\n",
        "        k_samples = []\n",
        "        while len(k_samples) < k:\n",
        "            neg_sample = np.random.choice(unigram_table)\n",
        "            if word2idx[neg_sample] == targets[i][0].item():\n",
        "                continue\n",
        "            k_samples.append(neg_sample)\n",
        "        negative_samples.append(prepare_sequence(k_samples, word2idx).view(1, -1))\n",
        "    return torch.cat(negative_samples)\n",
        "\n",
        "class SkipGramNegativeSampling(nn.Module):\n",
        "    def __init__(self, voc_size, embed_size):\n",
        "        super().__init__()\n",
        "        self.embedding_ctr = nn.Embedding(voc_size, embed_size)\n",
        "        self.embedding_ctx = nn.Embedding(voc_size, embed_size)\n",
        "        self.log_sigmoid = nn.LogSigmoid()\n",
        "\n",
        "    def forward(self, ctr, ctx, neg):\n",
        "        center_embeddings = self.embedding_ctr(ctr)\n",
        "        ctx_embeddings = self.embedding_ctx(ctx)\n",
        "        neg_embeddings = self.embedding_ctx(neg)\n",
        "        positive_score = ctx_embeddings.bmm(center_embeddings.transpose(1, 2)).squeeze(dim=2)\n",
        "        negative_score = neg_embeddings.bmm(center_embeddings.transpose(1, 2)).squeeze(dim=2)\n",
        "        loss = self.log_sigmoid(positive_score) + torch.sum(self.log_sigmoid(-negative_score), dim=1)\n",
        "        return -torch.mean(loss)\n",
        "\n",
        "def get_embed(word):\n",
        "    id_tensor = torch.LongTensor([word2idx[word]])\n",
        "    embed_ctr = model.embedding_ctr(id_tensor)\n",
        "    embed_ctx = model.embedding_ctx(id_tensor)\n",
        "    word_embed = (embed_ctr + embed_ctx) / 2\n",
        "    x, y = word_embed[0][0].item(), word_embed[0][1].item()\n",
        "    return x, y\n",
        "\n",
        "\n",
        "# Hyperparameters\n",
        "epochs = 5000\n",
        "bs = 2\n",
        "k = 10\n",
        "lr = 1e-2\n",
        "window_size = 1\n",
        "embed_size = 2\n",
        "\n",
        "voc_size = len(vocab)\n",
        "target_context_pairs = generate_target_context_pairs(corpus, window_size)\n",
        "skipgrams = np.array(target_context_pairs)\n",
        "X = torch.LongTensor(skipgrams[:, 0])\n",
        "Y = torch.LongTensor(skipgrams[:, 1])\n",
        "model = SkipGramNegativeSampling(voc_size, embed_size)\n",
        "optimizer = torch.optim.Adam(lr=lr, params=model.parameters())\n",
        "unigram_table = generate_unigram_table(corpus)\n",
        "\n",
        "for epoch in range(epochs):\n",
        "    perm = torch.randperm(len(X))\n",
        "    X = X[perm]\n",
        "    Y = Y[perm]\n",
        "    total_loss = 0.0\n",
        "    batches = 0\n",
        "    for i in range(0, len(X), bs):\n",
        "        x_train = X[i:i+bs].unsqueeze(dim=1)\n",
        "        y_train = Y[i:i+bs].unsqueeze(dim=1)\n",
        "        negs = generate_negative_samples(y_train, unigram_table, k)\n",
        "        optimizer.zero_grad()\n",
        "        loss = model(x_train, y_train, negs)\n",
        "        loss.backward()\n",
        "        optimizer.step()\n",
        "        batches += 1\n",
        "        total_loss += loss.item()\n",
        "    if (epoch + 1) % 1000 == 0:\n",
        "        print(f\"Epoch: {epoch + 1: 5.0f} | Loss: {total_loss / batches: 6.3f}\")\n",
        "\n",
        "\n",
        "# Plotting\n",
        "plt.figure(figsize=(6,3))\n",
        "for i, word in enumerate(vocab[:20]):\n",
        "    x, y = get_embed(word)\n",
        "    plt.scatter(x, y)\n",
        "    plt.annotate(word, xy=(x, y), xytext=(5, 2), textcoords='offset points')\n",
        "plt.show()"
      ],
      "metadata": {
        "colab": {
          "base_uri": "https://localhost:8080/",
          "height": 383
        },
        "id": "pjklUbu3zOs9",
        "outputId": "67c02092-9ca9-4bd3-fedd-b690ee59d167"
      },
      "execution_count": 131,
      "outputs": [
        {
          "output_type": "stream",
          "name": "stdout",
          "text": [
            "Epoch:  1000 | Loss:  2.166\n",
            "Epoch:  2000 | Loss:  2.086\n",
            "Epoch:  3000 | Loss:  2.032\n",
            "Epoch:  4000 | Loss:  1.948\n",
            "Epoch:  5000 | Loss:  2.425\n"
          ]
        },
        {
          "output_type": "display_data",
          "data": {
            "text/plain": [
              "<Figure size 600x300 with 1 Axes>"
            ],
            "image/png": "[encoded data removed]"
          },
          "metadata": {}
        }
      ]
    },
    {
      "cell_type": "code",
      "source": [
        "def generate_unigram_table(corpus, alpha=0.75, table_size=100):\n",
        "    unigram_table = []\n",
        "    tokens = flatten(corpus)\n",
        "    word_counts = Counter(tokens)\n",
        "    vocab = list(word_counts.keys())\n",
        "    freq_alpha = []\n",
        "    print(f\"{vocab}\\n\")\n",
        "    for w in vocab:\n",
        "        raw_freq = (word_counts[w])**alpha  # raw freq instead of relative freq\n",
        "        freq_alpha.append(raw_freq)\n",
        "    freq_alpha = np.array(freq_alpha, dtype=np.float64)\n",
        "    probs = freq_alpha / freq_alpha.sum()    # original smoothening instead of constant z=0.001(multiplying by 1000)\n",
        "    print(freq_alpha.shape, freq_alpha, freq_alpha.sum(), probs, probs.shape)\n",
        "    counts_in_table = np.maximum((probs * table_size).round().astype(int), 1)\n",
        "    print(\"\\n\")\n",
        "    print(probs, table_size, probs * table_size, (probs * table_size).round().astype(int), counts_in_table)\n",
        "    print(\"\\n\")\n",
        "    print(list(zip(vocab, counts_in_table)))\n",
        "    for word, cnt in zip(vocab, counts_in_table):\n",
        "        unigram_table.extend([word] * cnt)\n",
        "    print(unigram_table)\n",
        "    print(len(unigram_table))\n",
        "    print(table_size)\n",
        "    if len(unigram_table) > table_size:\n",
        "        unigram_table = unigram_table[:table_size]\n",
        "    else:\n",
        "        while len(unigram_table) < table_size:\n",
        "            unigram_table.append(np.random.choice(vocab, p=probs))\n",
        "    return unigram_table\n",
        "\n",
        "unigram_table = generate_unigram_table(corpus, alpha=0.75, table_size=100)"
      ],
      "metadata": {
        "colab": {
          "base_uri": "https://localhost:8080/"
        },
        "id": "FI0t-tCXM_sD",
        "outputId": "9bce4d6b-d705-4a3d-854e-de6390d1b92a"
      },
      "execution_count": 126,
      "outputs": [
        {
          "output_type": "stream",
          "name": "stdout",
          "text": [
            "['apple', 'banana', 'fruit', 'dog', 'cat', 'animal']\n",
            "\n",
            "(6,) [2.27950706 2.27950706 2.27950706 2.27950706 2.27950706 2.27950706] 13.677042341728665 [0.16666667 0.16666667 0.16666667 0.16666667 0.16666667 0.16666667] (6,)\n",
            "\n",
            "\n",
            "[0.16666667 0.16666667 0.16666667 0.16666667 0.16666667 0.16666667] 100 [16.66666667 16.66666667 16.66666667 16.66666667 16.66666667 16.66666667] [17 17 17 17 17 17] [17 17 17 17 17 17]\n",
            "\n",
            "\n",
            "[('apple', np.int64(17)), ('banana', np.int64(17)), ('fruit', np.int64(17)), ('dog', np.int64(17)), ('cat', np.int64(17)), ('animal', np.int64(17))]\n",
            "['apple', 'apple', 'apple', 'apple', 'apple', 'apple', 'apple', 'apple', 'apple', 'apple', 'apple', 'apple', 'apple', 'apple', 'apple', 'apple', 'apple', 'banana', 'banana', 'banana', 'banana', 'banana', 'banana', 'banana', 'banana', 'banana', 'banana', 'banana', 'banana', 'banana', 'banana', 'banana', 'banana', 'banana', 'fruit', 'fruit', 'fruit', 'fruit', 'fruit', 'fruit', 'fruit', 'fruit', 'fruit', 'fruit', 'fruit', 'fruit', 'fruit', 'fruit', 'fruit', 'fruit', 'fruit', 'dog', 'dog', 'dog', 'dog', 'dog', 'dog', 'dog', 'dog', 'dog', 'dog', 'dog', 'dog', 'dog', 'dog', 'dog', 'dog', 'dog', 'cat', 'cat', 'cat', 'cat', 'cat', 'cat', 'cat', 'cat', 'cat', 'cat', 'cat', 'cat', 'cat', 'cat', 'cat', 'cat', 'cat', 'animal', 'animal', 'animal', 'animal', 'animal', 'animal', 'animal', 'animal', 'animal', 'animal', 'animal', 'animal', 'animal', 'animal', 'animal', 'animal', 'animal']\n",
            "102\n",
            "100\n"
          ]
        }
      ]
    },
    {
      "cell_type": "code",
      "source": [],
      "metadata": {
        "id": "peXRzQeQVWaa"
      },
      "execution_count": null,
      "outputs": []
    }
  ]
}