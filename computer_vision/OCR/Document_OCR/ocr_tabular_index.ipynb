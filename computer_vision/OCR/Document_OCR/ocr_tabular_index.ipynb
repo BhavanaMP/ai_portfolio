{
 "cells": [
  {
   "cell_type": "markdown",
   "metadata": {},
   "source": [
    "### OCR a tabled/ columned data"
   ]
  },
  {
   "cell_type": "code",
   "execution_count": 2,
   "metadata": {},
   "outputs": [],
   "source": [
    "import pytesseract\n",
    "from PIL import Image"
   ]
  },
  {
   "cell_type": "code",
   "execution_count": 3,
   "metadata": {},
   "outputs": [],
   "source": [
    "img = Image.open(\"data/index_02.JPG\")"
   ]
  },
  {
   "cell_type": "code",
   "execution_count": 5,
   "metadata": {},
   "outputs": [],
   "source": [
    "pytesseract.pytesseract.tesseract_cmd = r'C:\\Program Files\\Tesseract-OCR\\tesseract.exe'"
   ]
  },
  {
   "cell_type": "code",
   "execution_count": null,
   "metadata": {},
   "outputs": [
    {
     "name": "stdout",
     "output_type": "stream",
     "text": [
      "INDEX NOMINUM.\n",
      "\n",
      "SCRIPSIT KAROLUS HAMPE.\n",
      "\n",
      "Maior numerus indicat paginam, minor lineam.\n",
      "\n",
      "A.v. E.\n",
      "\n",
      "Aaron 38, 20. 123, 18. 168, 6. 203, 38. |\n",
      "\n",
      "Abacue propheta 36, 5. 319,29. 373, 23.\n",
      "Abagarus rex Edessenorum 382, 13.\n",
      "Abdenago 585, 3.\n",
      "\n",
      "Abel 26, 11.\n",
      "\n",
      "Abigail 606, 6.\n",
      "\n",
      "Abraham 26,18. 124,18. 133, 23, 2:\n",
      "264. 302, 13. 303, 13. 320, 40. 328, 1.\n",
      "496, 22.\n",
      "\n",
      "Absalon 102, 5.\n",
      "\n",
      "Acgfredi v. Ecgfridus.\n",
      "\n",
      "Achab rex 504, 1.\n",
      "\n",
      "Achaz rex 504,1.\n",
      "\n",
      "Achiel 606, 19.\n",
      "\n",
      "Achilon 496, 26.\n",
      "\n",
      "Adal-, Adel-, Adhel-, Aedel-, Aedel-,\n",
      "‘Aedil-, Aed\n",
      "Athel-, Athil-, Aethel-, Aethil-\n",
      "Ethel-.\n",
      "\n",
      "Aedelbaldusabb.S. Petri Wiremuthen-\n",
      "sis et S. Pauli Girwensis 110, 28.\n",
      "\n",
      "Aedilberctus, Aedilberthus ep. Ha-\n",
      "gulstadensis, antea ep. Candidae\n",
      "casae sive Witernensis 27,43. 72,16.\n",
      "\n",
      "Adalbertus, Aedilberctus sive Magus,\n",
      "discipulus et capellanus Arnonis\n",
      "archiep. Salisburg., postea_abb.\n",
      "Ferrariensis 254, 1. 320, 41. 322, 19.\n",
      "416. 418, 14. 422, 10.\n",
      "\n",
      "Adalpertabb. [Tegernseensis ?]497,2.\n",
      "\n",
      "Adalbertus presb. monasterii 8. Mar-\n",
      "tini Turonensis 399, 3.\n",
      "\n",
      "Aedilburga, Edilburga, cognom. Euge-\n",
      "nia, abbatissa Flaedanbyrgensis,\n",
      "filia Offae regis Merciorum 78, 1.\n",
      "148, 32. 149, 33 [?]7 458.\n",
      "\n",
      "Aethelfleda uxor Aethilredi regis\n",
      "Northanhumbrorum, filia Offae\n",
      "regis Merciorum 149, 14. 150, 4.\n",
      "\n",
      "Adalgarius ep. [Trecensis?] 510, 10.\n",
      "\n",
      "Adelgisa filia Arichis ducis Bene-\n",
      "ventani 506, 27.\n",
      "\n",
      "Adalgisus fil. Desiderii regis Lango-\n",
      "bardorum 503, 45.\n",
      "\n",
      "Episrotae IV.\n",
      "\n",
      "il-, Edel-, Edil-, Athal-, |\n",
      "\n",
      "Aethelhardus, Aethilhardus, Athel-\n",
      "hardus, Athilhardus, Aedelhardus,\n",
      "Aedelhardus, Aedilhardus, Aedil-\n",
      "hardus, Ethelardus, Edelardus\n",
      "archiep. Cantuariensis Dorovernen-\n",
      "sis ecclesiae metropolitanus 46, 9.\n",
      "49,9, 128,2. 145, 31, 147,5. 188. 189.\n",
      "192, 24. 193, 5 [?]. 374376, v9. 377, 4.\n",
      "412. 4141 (2 448. 449 [2]. 450 [2].\n",
      "\n",
      "| 451,8([?]. 479. 480. 614, 10. 21. 36.\n",
      "\n",
      "| Adalhardus , cognom. Antonius, abb.\n",
      "Corbeiae veteris, fil. Bernhardi\n",
      "eo Caroli Magni 34, 25. 290.\n",
      "\n",
      "1. 299. 300. 364. 365, 381. 382.\n",
      "509. 566,16; frater: Bernarius;\n",
      "fratres 381,25; soror: Gundrada.\n",
      "\n",
      "Adalmondus, Aethelmodus ep. Scire-\n",
      "\n",
      "| burnensis 29, 9.\n",
      "\n",
      "Adelperga uxor Arichis ducis Bene-\n",
      "\n",
      "| ventani, filia Desiderii regis Lango-\n",
      "\n",
      "bardorum 506, 5; liberi: Romual-\n",
      "dus, Grimoaldus, Adelgisa.\n",
      "\n",
      "| Adalpert v, Adalbertus.\n",
      "\n",
      "Aedelredus, Aedilredus, Aethelredus,\n",
      "Aethilredus, Hedilredus rex Nor-\n",
      "thanhumbrorum, fil. Aedelwaldi\n",
      "Moll regis 33,15. 35,8. 41, 19.\n",
      "49,16. 71, 20. 146,2. 147, 10. 150, 6.\n",
      "151, 35. 171,17. 377,31; mater:\n",
      "Aedilthyda; uxor: Aethelfleda;\n",
      "famulus: Torchmundus.\n",
      "\n",
      "Adhelricus diaconus, discipulus et\n",
      "capellanus Arnonis archiep. Salis-\n",
      "burg., postea abbas Ferrariensis,\n",
      "archiepiscopus Senonensis, 418, 14.\n",
      "422, 10.\n",
      "\n",
      "Aedilthyda, Edilthruda uxor Aethel-\n",
      "waldi Moll regis Northanhumbro-\n",
      "rum, postea abbatissa 120,12. 151,17.\n",
      "152,31 (hs filius: Aethelredus rex\n",
      "Northanhumbrorum.\n",
      "\n",
      "Edildryda uxor Ecgfridi regis Nor-\n",
      "thanhumbrorum, postea abbatissa\n",
      "(t 679) 417,15.\n",
      "\n",
      "Aedelwaldus, Aethelwoldus Moll rex\n",
      "Northanhumbrorum 33, 16; uxor:\n",
      "Aedilthyda; filius; Aethelredus,\n",
      "\n",
      "Adalwinus ep. Reginensis 421, 24.\n",
      "422, 21. 424,3.\n",
      "\n",
      "Aethiluuinus episcopus 28, 2.\n",
      "\n",
      "Adam 124, 201,1. 226, 7. 264, 21.\n",
      "879, 29. 466, 36—468, 25. 591, 34.\n",
      "Adam abb. monasterii Gemeticensis\n",
      "\n",
      "579.\n",
      "\n",
      "Adaula abbatissa Anglica 112, 4.\n",
      "\n",
      "Adoredus, Hathoredus ep. Hwiccio-\n",
      "rum [Wigorniensis] 29, 10.\n",
      "\n",
      "Adrianus v. Hadrianus.\n",
      "\n",
      "Adriaticum mare 324, 41.\n",
      "\n",
      "| Aedel-, Aedil-, v. Adal-.\n",
      "\n",
      "Aegesippus [i. e. Hegesippus] 501, 11.\n",
      "\n",
      "Aegil v. Eigil.\n",
      "\n",
      "Aegyptus, Egyptus 123,19. 554, 17;\n",
      "Aegyptii, Aegyptiaci 231. 232, 17.\n",
      "467, 36. 567,6. 571,33; Egyptiacae\n",
      "divitiae 470, 22; Aegyptiacae tene-\n",
      "brae 232, 3; Acgypit rex: Pharao;\n",
      "Aegyptiacascola, Aegyptiaci pueri\n",
      "v. Carolus I imperator.\n",
      "\n",
      "Aeine, Aesne, Esne ep. Herefordensis\n",
      "29, 6.\n",
      "\n",
      "Aelberhtus archiep. Eboracensis, ma-\n",
      "\n",
      "‘ister Alevini abbatis (162, 24]. 167,s.\n",
      "171,19]. [177,5]. [224,20]. [239, 28].\n",
      "332, 28]. [377,32]. (378, 31]. [429,27\n",
      "\n",
      "Aelfvaldus, Aelfwaldus rex Nor-\n",
      "thanhymbrorum, [Transhymbranae\n",
      "gentis] 20, 27. 28, 11. 43,8. 377, 31.\n",
      "\n",
      "Aelim v. Alim.\n",
      "\n",
      "Aeneades 39, 21; v. Virgilius.\n",
      "\n",
      "Aesculapius, Scolapius 397, 25.\n",
      "\n",
      "Aesne v. Aeine,\n",
      "\n",
      "Aethel-, Aethil- v. Adal-.\n",
      "\n",
      "Aethiopia 478, 5.\n",
      "\n",
      "Africa 124, 16; Afer: Melchiades\n",
      "papa; Africanum concilium 526,33.\n",
      "\n",
      "Africanus, sc. Scipio Afr. 575, 36.\n",
      "\n",
      "Agar 584, 3s.\n",
      "\n",
      "Agareni, Aggareni 32, 19. 601, 21;\n",
      "v, Saraceni.\n",
      "\n",
      "Agathensis synodus 396,\n",
      "\n",
      "Aginus ep. Constantiensis 117, 32.\n",
      "\n",
      "129, 19.\n",
      "\n",
      "8\n",
      "\n"
     ]
    }
   ],
   "source": [
    "ocr_image = pytesseract.image_to_string(img)\n",
    "print(ocr_image)   # the structure is not maintained, lot of noise, what if we need ner? preprocessing helps"
   ]
  },
  {
   "cell_type": "markdown",
   "metadata": {},
   "source": [
    "We need to find out columns first and then perform OCR to better get the named entities. For that we need boundary boxes around the columns. We can preprocess to achieve it using opencv.\n",
    "\n",
    "1. Gray scale the image\n",
    "2. Blur image (to identify overall structure, and not focusing on text itself) \n",
    "2. Create threshold (and kernal) to separate text block \n",
    "3.  Perform dilation (~white thickening)\n",
    "4. Perform contour (finding boundaries)  \n",
    "5. Perform loop to only draw boundrary box of specific size (to exclude small bbox)\n",
    "\n"
   ]
  },
  {
   "cell_type": "code",
   "execution_count": 38,
   "metadata": {},
   "outputs": [],
   "source": [
    "import cv2\n",
    "import numpy as np\n"
   ]
  },
  {
   "cell_type": "code",
   "execution_count": 39,
   "metadata": {},
   "outputs": [],
   "source": [
    "img = cv2.imread(\"data/index_02.JPG\")\n",
    "base_image = img.copy()"
   ]
  },
  {
   "cell_type": "markdown",
   "metadata": {},
   "source": [
    "### To get the structure of the image "
   ]
  },
  {
   "cell_type": "code",
   "execution_count": null,
   "metadata": {},
   "outputs": [
    {
     "data": {
      "text/plain": [
       "True"
      ]
     },
     "execution_count": 40,
     "metadata": {},
     "output_type": "execute_result"
    }
   ],
   "source": [
    "img_gray = cv2.cvtColor(img, cv2.COLOR_BGR2GRAY)\n",
    "cv2.imwrite(\"temp/index_02_img_gray.jpg\", img_gray)"
   ]
  },
  {
   "cell_type": "code",
   "execution_count": null,
   "metadata": {},
   "outputs": [
    {
     "data": {
      "text/plain": [
       "True"
      ]
     },
     "execution_count": 41,
     "metadata": {},
     "output_type": "execute_result"
    }
   ],
   "source": [
    "img_blur = cv2.GaussianBlur(img_gray, (7, 7), 0)\n",
    "cv2.imwrite(\"temp/index_02_img_blur.jpg\", img_blur)"
   ]
  },
  {
   "cell_type": "code",
   "execution_count": null,
   "metadata": {},
   "outputs": [
    {
     "data": {
      "text/plain": [
       "True"
      ]
     },
     "execution_count": 42,
     "metadata": {},
     "output_type": "execute_result"
    }
   ],
   "source": [
    "thresh, img_thresh = cv2.threshold(img_blur, 0, 255, cv2.THRESH_BINARY_INV + cv2.THRESH_OTSU)\n",
    "cv2.imwrite(\"temp/index_02_img_thresh.jpg\", img_thresh)"
   ]
  },
  {
   "cell_type": "code",
   "execution_count": null,
   "metadata": {},
   "outputs": [
    {
     "data": {
      "text/plain": [
       "True"
      ]
     },
     "execution_count": 43,
     "metadata": {},
     "output_type": "execute_result"
    }
   ],
   "source": [
    "kernel = cv2.getStructuringElement(cv2.MORPH_RECT, (3, 13))\n",
    "img_dilate = cv2.dilate(img_thresh, kernel, iterations=1)  # thins the text as we didnt invert the img\n",
    "cv2.imwrite(\"temp/index_02_img_dilate.jpg\", img_dilate)"
   ]
  },
  {
   "cell_type": "code",
   "execution_count": null,
   "metadata": {},
   "outputs": [],
   "source": [
    "# Grab the content of the structure using contours\n",
    "contours = cv2.findContours(img_dilate, cv2.RETR_EXTERNAL, cv2.CHAIN_APPROX_SIMPLE)\n",
    "cnts = contours[0] if len(contours) == 2 else contours[1]"
   ]
  },
  {
   "cell_type": "code",
   "execution_count": 45,
   "metadata": {},
   "outputs": [
    {
     "name": "stdout",
     "output_type": "stream",
     "text": [
      "2\n",
      "<class 'tuple'>\n"
     ]
    },
    {
     "data": {
      "text/plain": [
       "(None, None)"
      ]
     },
     "execution_count": 45,
     "metadata": {},
     "output_type": "execute_result"
    }
   ],
   "source": [
    "print(len(contours)), print(type(cnts))"
   ]
  },
  {
   "cell_type": "code",
   "execution_count": null,
   "metadata": {},
   "outputs": [],
   "source": [
    "cnts = sorted(cnts, key=lambda x: cv2.boundingRect(x)[0])"
   ]
  },
  {
   "cell_type": "code",
   "execution_count": null,
   "metadata": {},
   "outputs": [
    {
     "data": {
      "text/plain": [
       "True"
      ]
     },
     "execution_count": 48,
     "metadata": {},
     "output_type": "execute_result"
    }
   ],
   "source": [
    "results  = []\n",
    "for c in cnts:\n",
    "    x, y, w, h = cv2.boundingRect(c)\n",
    "    if h > 200 and w > 20:  # we are having this condition to make sure the small bboxes are eliminated and only big columns are extracted\n",
    "        roi = img[y:y + h, x:x + w]\n",
    "        cv2.imwrite(\"temp/index_roi.png\", roi)\n",
    "        # draw bbox\n",
    "        cv2.rectangle(img, (x, y), (x+w, y+h), (36, 255, 12), 2)  # (36, 255, 12) - green color\n",
    "        ocr_result = pytesseract.image_to_string(roi)\n",
    "        ocr_result = ocr_result.split(\"\\n\")  # for further post processing\n",
    "        for item in ocr_result:\n",
    "            results.append(item)\n",
    "cv2.imwrite(\"temp/index_02_bbox_new.png\", img) # save the img"
   ]
  },
  {
   "cell_type": "code",
   "execution_count": 49,
   "metadata": {},
   "outputs": [
    {
     "name": "stdout",
     "output_type": "stream",
     "text": [
      "['A. v. E.', '', 'Aaron 38, 20. 123, 18. 168, 6. 203, 38.', 'Abacuc propheta 36,5. 319,29. 373, 23.', 'Abagarus rex Edessenorum 382, 13.', 'Abdenago 585, 3.', 'Abel 26, 11.', 'Abigail 606, 6.', 'Abraham 26,18, 124,18. 133, 23.', '264. 302, 13. 303, 13. 320, 40.', '496, 22.', 'Absalon 102, 5.', 'Acgfredi v. Ecgtridus.', 'Achab rex 504, 1.', 'Achaz rex 504, 1.', 'Achiel 606, 19.', 'Achilon 496, 26.', 'Adal-, Adel-, Adhel-, Aedel-, Aed', '', 'Aedil-, Aedil- Edel-, Edil-, Athal-,', 'Athel-, Athil-, Aethel-, Aethil-,', 'Ethel-.', 'Aedelbaldusabb.S. Petri Wiremuthen-', 'sis et S. Pauli Girwensis 110, 28.', 'Aedilberctus, Aedilberthus ep. Ha-', 'gulstadensis, antea ep. Candidae', 'casae sive Witernensis 27,43. 72,16.', 'Adalbertus, Aedilberctus sive Magus,', 'discipulus et capellanus Arnonis', 'archiep. Salisburg., postea_abb.', 'Ferrariensis 254, 1. 320, 41. 322, 19.', '416. 418, 14. 422, 10.', 'Adalpertabb.[Tegernseensis ?]497,23.', 'Adalbertus presb. monasterii S. Mar-', 'tini Turonensis 399, 3.', 'Aedilburga, Edilburga, cognom. Euge-', 'nia, abbatissa Flaedanbyrgensis,', 'filia Offae regis Merciorum 78, 1.', '148, 32. 149, 33 [2]7 458.', 'Aethelfleda uxor Aethilredi regis', 'Northanhumbrorum, filia Oftae', 'regis Merciorum 149, 14. 150, 4.', 'Adalgarius ep. [Trecensis?] 510, 10.', 'Adelgisa filia Arichis ducis Bene-', 'ventani 506, 27.', 'Adalgisus fil. Desiderii regis Lango-', 'bardorum 503, 45.', '', 'Epistozae IV.', '', '', 'Aethelhardus, Aethilhardus, Athel-', 'hardus, Athilhardus, Aedelhardus,', 'Aedelhardus, Aedilhardus, Aedil-', 'hardus, Ethelardus, Edelardus', 'archiep. Cantuariensis Dorovernen-', '', 'sis eselaaing metropolitanus 45, 9.', '', '49,9. 128,2. 145, 31, 147,5. 188. 189.', '', '192, 24. 193, 5[?]. 374376, 29. 377, 4.', '', '412. 414,1 (2) 448. 449 [2]. 450 [2],', '', '451, 8 [2]. 479. 480. 614, 10. 21. 36.', '', 'Adalhardus, cognom. Antonius, abb.', '', 'Corbeiae veteris, fil. Bernhardi', '', 'rae Caroli Magni 34, 25. 290.', '1. 299. 300. 364. 365. 381. 382.', '', '509. 566,16; frater: Bernarius;', '', 'fratres 381,25; soror: Gundrada.', '', 'Adalmondus, Aethelmodus ep. Scire-', '', 'burnensis 29, 9.', '', 'Adelperga uxor Arichis ducis Bene-', '', 'ventani, filia Desiderii regis Lango-', '', 'bardorum 506, 5; liberi: Romual-', 'dus, Grimoaldus, Adelgisa.', '', 'Adalpert v, Adalbertus.', '', 'Aedelredus, Aedilredus, Aethelredus,', '', 'Aethilredus, Hedilredus rex Nor-', '', 'thanhumbrorum, fil. Aedelwaldi', '', 'Moll regis 383,15. 35,8. 41, 19.', '', '49,16. T1, 20, 146,2. 147,10. 150, 6.', '', '151, 35. 171,17. 377,31; mater:', '', 'Aedilthyda; uxor: Aethelfleda;', '', 'famulus: Torchmundus.', '', 'Adhelricus diaconus, discipulus et!', '', 'capellanus Arnonis archiep. Salis-', '', 'burg., postea abbas Ferrariensis,', '', 'archiepiscopus Senonensis, 418, 14.', '', '422, 10.', '', 'Aedilthyda, Edilthruda uxor Aethel-', '', 'waldi Moll regis Northanhumbro-', '', 'rum, postea abbatissa 120,12. 151,17.', '', '152, 31 (?]; filius: Aethelredus rex', '', 'Northanhumbrorum.', '', 'Edildryda uxor Ecgfridi regis Nor-', 'thanhumbrorum, postea abbatissa', '(+ 679) 417,15.', '', 'Aedelwaldus, Aethelwoldus Moll rex', 'Northanhumbrorum 33,16; uxor:', 'Aedilthyda; filius: Aethelredus,', '', 'Adalwinus ep. Reginensis 421, 24.', '422, 21. 424,3.', '', '', 'Aethiluuinus episcopus 28, 2.', '', 'Adam 124. 201,1. 226,7. 264, 21,', '', '879, 29. 466, 36-—468, v5. 591, 34.', '', 'Adam abb. monasterii Gemeticensis', '', '579.', '', 'Adaula abbatissa Anglica 112, 4.', '', 'Adoredus, Hathoredus ep. Hwiccio-', 'rum [Wigorniensis] 29, 10.', '', 'Adrianus v. Hadrianus.', '', 'Adriaticum mare 324, 41.', '', 'Aedel-, Aedil-, v. Adal-.', '', 'Aegesippus [i. e. Hegesippus] 501, 11', '', 'Aegil v. Eigil.', '', 'Aegyptus, Egyptus 123,19. 554, 17;', 'Aegyptii, Aegyptiaci 231. 232, 17.', '467, 36. 567,6. 571,33; Egyptiacae', 'divitiae 470, 22; Aegyptiacae tene-', 'brae 232, 3; Acgypit rex: Pharao;', 'Aegyptiacascola, Aegyptiaci pueri', 'v. Carolus I imperator.', '', 'Aeine, Aesne, Esne ep. Herefordensis', '', ', 6.', 'Aelberhtus archiep. Eboracensis, ma-', '‘ister Alevini abbatis (162, 24]. 167,8.', '171,19]. [177, 5]. [224,20]. [239, 28].', '332, 28]. [377,32]. (378, 31]. [429,27', '', 'Aelfvaldus, Aelfwaldus rex Nor-', 'thanhymbrorum, [Transhymbranae', 'gentis] 20, 27. 28, 11. 43,8. 377, 31.', '', 'Aelim v. Alim.', '', 'Aeneades 39, 21; v. Virgilius.', '', 'Aesculapius, Scolapius 397, 25.', '', 'Aesne v. Aeine.', '', 'Aethel-, Aethil- v. Adal-.', '', 'Aethiopia 478, 5,', '', 'Africa 124, 16; Afer: Melchiades', 'papa; Africanum concilium 526,33.', '', 'Africanus, se. Scipio Afr. 575, 36.', '', 'Agar 584, 3s.', '', 'Agareni, Aggareni 32, 19. 601, 21;', 'v, Saraceni.', '', 'Agathensis synodus 396,', '', 'Aginus ep. Constantiensis 117, 32.', '', '129, 19.', '', '']\n"
     ]
    }
   ],
   "source": [
    "print (results)"
   ]
  },
  {
   "cell_type": "code",
   "execution_count": 50,
   "metadata": {},
   "outputs": [],
   "source": [
    "entities = []\n",
    "for item in results:\n",
    "    item = item.strip().replace(\"\\n\", \"\")\n",
    "    item = item.split(\" \")[0]\n",
    "    if len(item) > 2:\n",
    "        if item[0] == \"A\" and \"-\" not in item:\n",
    "            item = item.split(\".\")[0].replace(\",\", \"\").replace(\";\", \"\")\n",
    "            entities.append(item)"
   ]
  },
  {
   "cell_type": "code",
   "execution_count": 51,
   "metadata": {},
   "outputs": [
    {
     "name": "stdout",
     "output_type": "stream",
     "text": [
      "['Aaron', 'Abacuc', 'Abagarus', 'Abdenago', 'Abel', 'Abigail', 'Abraham', 'Absalon', 'Acgfredi', 'Achab', 'Achaz', 'Achiel', 'Achilon', 'Aedelbaldusabb', 'Aedilberctus', 'Adalbertus', 'Adalpertabb', 'Adalbertus', 'Aedilburga', 'Aethelfleda', 'Adalgarius', 'Adelgisa', 'Adalgisus', 'Aethelhardus', 'Aedelhardus', 'Adalhardus', 'Adalmondus', 'Adelperga', 'Adalpert', 'Aedelredus', 'Aethilredus', 'Aedilthyda', 'Adhelricus', 'Aedilthyda', 'Aedelwaldus', 'Aedilthyda', 'Adalwinus', 'Aethiluuinus', 'Adam', 'Adam', 'Adaula', 'Adoredus', 'Adrianus', 'Adriaticum', 'Aegesippus', 'Aegil', 'Aegyptus', 'Aegyptii', 'Aegyptiacascola', 'Aeine', 'Aelberhtus', 'Aelfvaldus', 'Aelim', 'Aeneades', 'Aesculapius', 'Aesne', 'Aethiopia', 'Africa', 'Africanus', 'Agar', 'Agareni', 'Agathensis', 'Aginus']\n"
     ]
    }
   ],
   "source": [
    "print(entities)"
   ]
  },
  {
   "cell_type": "code",
   "execution_count": 52,
   "metadata": {},
   "outputs": [
    {
     "name": "stdout",
     "output_type": "stream",
     "text": [
      "['Adelgisa', 'Agareni', 'Aegyptii', 'Aedelhardus', 'Aedilthyda', 'Aegyptus', 'Adalgarius', 'Agathensis', 'Adalmondus', 'Adalbertus', 'Abagarus', 'Agar', 'Aethelfleda', 'Adalgisus', 'Achaz', 'Abigail', 'Aedelbaldusabb', 'Aethiluuinus', 'Abraham', 'Aaron', 'Adalwinus', 'Adaula', 'Aethelhardus', 'Adhelricus', 'Acgfredi', 'Adalpert', 'Adoredus', 'Aelberhtus', 'Adam', 'Aegesippus', 'Africanus', 'Abel', 'Aesculapius', 'Aegyptiacascola', 'Aedelwaldus', 'Achiel', 'Adalpertabb', 'Aelim', 'Aeneades', 'Achilon', 'Aesne', 'Aedelredus', 'Aedilburga', 'Absalon', 'Aeine', 'Abacuc', 'Aelfvaldus', 'Aethiopia', 'Aginus', 'Adelperga', 'Adrianus', 'Aedilberctus', 'Aegil', 'Africa', 'Aethilredus', 'Abdenago', 'Achab', 'Adalhardus', 'Adriaticum']\n"
     ]
    }
   ],
   "source": [
    "entities = list(set(entities))  # remove duplicates\n",
    "print (entities)"
   ]
  },
  {
   "cell_type": "code",
   "execution_count": 53,
   "metadata": {},
   "outputs": [],
   "source": [
    "entities.sort()"
   ]
  },
  {
   "cell_type": "code",
   "execution_count": 54,
   "metadata": {},
   "outputs": [
    {
     "name": "stdout",
     "output_type": "stream",
     "text": [
      "['Aaron', 'Abacuc', 'Abagarus', 'Abdenago', 'Abel', 'Abigail', 'Abraham', 'Absalon', 'Acgfredi', 'Achab', 'Achaz', 'Achiel', 'Achilon', 'Adalbertus', 'Adalgarius', 'Adalgisus', 'Adalhardus', 'Adalmondus', 'Adalpert', 'Adalpertabb', 'Adalwinus', 'Adam', 'Adaula', 'Adelgisa', 'Adelperga', 'Adhelricus', 'Adoredus', 'Adrianus', 'Adriaticum', 'Aedelbaldusabb', 'Aedelhardus', 'Aedelredus', 'Aedelwaldus', 'Aedilberctus', 'Aedilburga', 'Aedilthyda', 'Aegesippus', 'Aegil', 'Aegyptiacascola', 'Aegyptii', 'Aegyptus', 'Aeine', 'Aelberhtus', 'Aelfvaldus', 'Aelim', 'Aeneades', 'Aesculapius', 'Aesne', 'Aethelfleda', 'Aethelhardus', 'Aethilredus', 'Aethiluuinus', 'Aethiopia', 'Africa', 'Africanus', 'Agar', 'Agareni', 'Agathensis', 'Aginus']\n"
     ]
    }
   ],
   "source": [
    "print(entities)"
   ]
  },
  {
   "cell_type": "code",
   "execution_count": null,
   "metadata": {},
   "outputs": [],
   "source": []
  }
 ],
 "metadata": {
  "kernelspec": {
   "display_name": "Python 3",
   "language": "python",
   "name": "python3"
  },
  "language_info": {
   "codemirror_mode": {
    "name": "ipython",
    "version": 3
   },
   "file_extension": ".py",
   "mimetype": "text/x-python",
   "name": "python",
   "nbconvert_exporter": "python",
   "pygments_lexer": "ipython3",
   "version": "3.13.2"
  }
 },
 "nbformat": 4,
 "nbformat_minor": 2
}
