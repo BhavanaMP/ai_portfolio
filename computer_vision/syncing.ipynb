{
 "cells": [
  {
   "cell_type": "code",
   "execution_count": 1,
   "metadata": {},
   "outputs": [],
   "source": [
    "import wandb"
   ]
  },
  {
   "cell_type": "markdown",
   "metadata": {},
   "source": [
    "C:\\Users\\malla\\AppData\\Local\\Temp\\debug-cli.malla.log"
   ]
  },
  {
   "cell_type": "code",
   "execution_count": 8,
   "metadata": {},
   "outputs": [
    {
     "name": "stdout",
     "output_type": "stream",
     "text": [
      "Reclaimed 149.4KB of space\n"
     ]
    }
   ],
   "source": [
    "!wandb artifact cache cleanup 300B"
   ]
  },
  {
   "cell_type": "markdown",
   "metadata": {},
   "source": [
    " You could undelete this run from your Project’s Overview page: https://wandb.ai/ENTITY/PROJECT/overview (please replace ENTITY and PROJECT with your details) and click on three vertical dots in top right corner of Overview and Undelete runs. You could then try to sync again this run that fails.\n",
    "\n",
    "Another alternative would be to specify a new unique id (new-run-id) when syncing this run, using the wandb sync --id=new-run-id wandb/offline-run-date_time-old_runid command. You could get a new unique id as follows:\n",
    "python -c \"import wandb; print(wandb.util.generate_id())\""
   ]
  },
  {
   "cell_type": "code",
   "execution_count": 11,
   "metadata": {},
   "outputs": [
    {
     "data": {
      "text/plain": [
       "['9x7ru0x7']"
      ]
     },
     "execution_count": 11,
     "metadata": {},
     "output_type": "execute_result"
    }
   ],
   "source": [
    "# !python -c \"import wandb; print(wandb.util.generate_id())\""
   ]
  },
  {
   "cell_type": "code",
   "execution_count": null,
   "metadata": {},
   "outputs": [],
   "source": [
    "# !wandb sync --id=9x7ru0x7 --project offline_Train_Runs_FPN_MITB3 --entity bhavanathesis offline-run-20240724_173100-p4xgfqhs"
   ]
  },
  {
   "cell_type": "markdown",
   "metadata": {},
   "source": [
    "offline_Test_Runs_FPN_MITB3\n",
    "offline_Train_Runs_DEEPLABV3PLUS_CONVNEXT\n"
   ]
  },
  {
   "cell_type": "code",
   "execution_count": 3,
   "metadata": {},
   "outputs": [
    {
     "name": "stdout",
     "output_type": "stream",
     "text": [
      "^C\n"
     ]
    },
    {
     "name": "stdout",
     "output_type": "stream",
     "text": [
      "Find logs at: C:\\Users\\malla\\AppData\\Local\\Temp\\debug-cli.malla.log\n",
      "Syncing: https://wandb.ai/bhavanathesis/dummy/runs/2fpnw0fy ... done.\n"
     ]
    }
   ],
   "source": [
    "!wandb sync --project dummy --entity bhavanathesis offline-run-20240729_133815-2fpnw0fy"
   ]
  },
  {
   "cell_type": "code",
   "execution_count": null,
   "metadata": {},
   "outputs": [],
   "source": []
  }
 ],
 "metadata": {
  "kernelspec": {
   "display_name": "learning",
   "language": "python",
   "name": "python3"
  },
  "language_info": {
   "codemirror_mode": {
    "name": "ipython",
    "version": 3
   },
   "file_extension": ".py",
   "mimetype": "text/x-python",
   "name": "python",
   "nbconvert_exporter": "python",
   "pygments_lexer": "ipython3",
   "version": "3.11.9"
  }
 },
 "nbformat": 4,
 "nbformat_minor": 2
}
