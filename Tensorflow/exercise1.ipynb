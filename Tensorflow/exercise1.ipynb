{
  "nbformat": 4,
  "nbformat_minor": 0,
  "metadata": {
    "colab": {
      "name": "exercise1.ipynb",
      "provenance": []
    },
    "interpreter": {
      "hash": "81c5ca5e4a0af33c0e7274a0de2a298af99413d99e7702ad60c9f85312d1d29c"
    },
    "kernelspec": {
      "display_name": "Python 3.9.1 64-bit",
      "name": "python3"
    },
    "language_info": {
      "codemirror_mode": {
        "name": "ipython",
        "version": 3
      },
      "file_extension": ".py",
      "mimetype": "text/x-python",
      "name": "python",
      "nbconvert_exporter": "python",
      "pygments_lexer": "ipython3",
      "version": "3.9.1"
    }
  },
  "cells": [
    {
      "cell_type": "markdown",
      "metadata": {
        "id": "GT_GRQxEz0Wa"
      },
      "source": [
        "Made by Janusz Feigel, Bhavana Malla, Brinda Rao"
      ]
    },
    {
      "cell_type": "code",
      "metadata": {
        "colab": {
          "base_uri": "https://localhost:8080/"
        },
        "id": "yNcLhgH3Qpuc",
        "outputId": "7176edea-7601-4161-d668-1af5e3d33bd9"
      },
      "source": [
        "from google.colab import drive\n",
        "drive.mount('/content/drive')"
      ],
      "execution_count": 1,
      "outputs": [
        {
          "output_type": "stream",
          "name": "stdout",
          "text": [
            "Drive already mounted at /content/drive; to attempt to forcibly remount, call drive.mount(\"/content/drive\", force_remount=True).\n"
          ]
        }
      ]
    },
    {
      "cell_type": "code",
      "metadata": {
        "colab": {
          "base_uri": "https://localhost:8080/",
          "height": 35
        },
        "id": "fJHL7GZyR9bQ",
        "outputId": "c6f55b39-5278-42a8-8644-36fcef708c7c"
      },
      "source": [
        "import os\n",
        "os.chdir('/content/drive/MyDrive/Introduction to Deep Learning/Exercise 1')\n",
        "os.getcwd()"
      ],
      "execution_count": 2,
      "outputs": [
        {
          "output_type": "execute_result",
          "data": {
            "application/vnd.google.colaboratory.intrinsic+json": {
              "type": "string"
            },
            "text/plain": [
              "'/content/drive/MyDrive/Introduction to Deep Learning/Exercise 1'"
            ]
          },
          "metadata": {},
          "execution_count": 2
        }
      ]
    },
    {
      "cell_type": "code",
      "metadata": {
        "id": "r7E0eITIQK2N"
      },
      "source": [
        "import tensorflow as tf\n",
        "import numpy as np\n",
        "import matplotlib.pyplot as plt\n",
        "from datasets import MNISTDataset"
      ],
      "execution_count": 3,
      "outputs": []
    },
    {
      "cell_type": "code",
      "metadata": {
        "colab": {
          "base_uri": "https://localhost:8080/",
          "height": 299
        },
        "id": "y5nXh-UTSM6-",
        "outputId": "1e01940f-cea3-4077-97c0-039b6f2126dd"
      },
      "source": [
        "mnist = tf.keras.datasets.mnist\n",
        "(train_images, train_labels), (test_images, test_labels) = mnist.load_data()\n",
        "print(train_images.shape)\n",
        "print(test_images.shape)\n",
        "\n",
        "\n",
        "plt.imshow(train_images[0], cmap=\"Greys_r\")\n",
        "\n",
        "data = MNISTDataset(train_images.reshape([-1, 784]), train_labels, \n",
        "                    test_images.reshape([-1, 784]), test_labels,\n",
        "                    batch_size=128)\n"
      ],
      "execution_count": 4,
      "outputs": [
        {
          "output_type": "stream",
          "name": "stdout",
          "text": [
            "(60000, 28, 28)\n",
            "(10000, 28, 28)\n"
          ]
        },
        {
          "output_type": "display_data",
          "data": {
            "image/png": "[encoded data removed]",
            "text/plain": [
              "<Figure size 432x288 with 1 Axes>"
            ]
          },
          "metadata": {
            "needs_background": "light"
          }
        }
      ]
    },
    {
      "cell_type": "code",
      "metadata": {
        "id": "p0F-DYIkSRQp"
      },
      "source": [
        "train_steps = 1000\n",
        "learning_rate = 0.1\n",
        "\n",
        "#hidden layer 1 with 512 neurons\n",
        "W_hidden = tf.Variable(tf.random.uniform(shape=[784, 512], minval=-0.1, maxval=0.1, dtype=tf.dtypes.float32))\n",
        "b_hidden = tf.Variable(tf.random.uniform(shape=[512], minval=-0.1, maxval=0.1, dtype=tf.dtypes.float32))\n",
        "\n",
        "#hidden layer 2 with 256 neurons\n",
        "W_hidden2 = tf.Variable(tf.random.uniform(shape=[512, 256], minval=-0.1, maxval=0.1, dtype=tf.dtypes.float32))\n",
        "b_hidden2 = tf.Variable(tf.random.uniform(shape=[256], minval=-0.1, maxval=0.1, dtype=tf.dtypes.float32))\n",
        "\n",
        "#output layer with 10 neurons\n",
        "W_out = tf.Variable(tf.random.uniform(shape=[256, 10], minval=-0.1, maxval=0.1, dtype=tf.dtypes.float32))\n",
        "b_out = tf.Variable(tf.random.uniform(shape=[10], minval=-0.1, maxval=0.1, dtype=tf.dtypes.float32))"
      ],
      "execution_count": 5,
      "outputs": []
    },
    {
      "cell_type": "code",
      "metadata": {
        "colab": {
          "base_uri": "https://localhost:8080/"
        },
        "id": "K_hIKXfjTYzU",
        "outputId": "ee4d0356-9a46-4de3-adcc-2d56a4f5ea8f"
      },
      "source": [
        "train_acc = []\n",
        "test_acc = []\n",
        "steps = []\n",
        "for step in range(train_steps):\n",
        "    img_batch, lbl_batch = data.next_batch()\n",
        "    with tf.GradientTape() as tape:\n",
        "        #hidden layer 1\n",
        "        hidden1_logits = tf.matmul(img_batch, W_hidden) + b_hidden\n",
        "        #hidden layer 2\n",
        "        hidden2_logits = tf.matmul(hidden1_logits, W_hidden2) + b_hidden2\n",
        "        #output layer\n",
        "        out_logits = tf.matmul(hidden2_logits, W_out) + b_out\n",
        "        #output activation and loss\n",
        "        xent = tf.reduce_mean(tf.nn.sparse_softmax_cross_entropy_with_logits(\n",
        "            logits=out_logits, labels=lbl_batch))\n",
        "    \n",
        "    #backpropagation\n",
        "    grads = tape.gradient(xent, [W_hidden, b_hidden, W_hidden2, b_hidden2, W_out, b_out])\n",
        "    #gradient descent\n",
        "    W_hidden.assign_sub(learning_rate * grads[0])\n",
        "    b_hidden.assign_sub(learning_rate * grads[1])\n",
        "    W_hidden2.assign_sub(learning_rate * grads[2])\n",
        "    b_hidden2.assign_sub(learning_rate * grads[3])\n",
        "    W_out.assign_sub(learning_rate * grads[4])\n",
        "    b_out.assign_sub(learning_rate * grads[5])\n",
        "\n",
        "    \n",
        "    \n",
        "    if step % 100 == 0:\n",
        "        preds = tf.argmax(out_logits, axis=1, output_type=tf.int32)\n",
        "        tr_acc = tf.reduce_mean(tf.cast(tf.equal(preds, lbl_batch), tf.float32))\n",
        "        print(\"Step {} Loss: {} Accuracy: {}\".format(step, xent, tr_acc))\n",
        "        hidden1_logits = tf.matmul(data.test_data, W_hidden) + b_hidden\n",
        "        hidden2_logits = tf.matmul(hidden1_logits, W_hidden2) + b_hidden2\n",
        "        out_logits = tf.matmul(hidden2_logits, W_out) + b_out\n",
        "\n",
        "        test_preds = tf.argmax(out_logits, axis=1, output_type=tf.int32)\n",
        "        te_acc = tf.reduce_mean(tf.cast(tf.equal(test_preds, data.test_labels), tf.float32))\n",
        "        print(te_acc.numpy())\n",
        "        train_acc.append(tr_acc)\n",
        "        test_acc.append(te_acc.numpy())\n",
        "        steps.append(step)\n",
        "    "
      ],
      "execution_count": 6,
      "outputs": [
        {
          "output_type": "stream",
          "name": "stdout",
          "text": [
            "Step 0 Loss: 2.570791482925415 Accuracy: 0.1328125\n",
            "0.1868\n",
            "Step 100 Loss: 0.3761165142059326 Accuracy: 0.890625\n",
            "0.8952\n",
            "Step 200 Loss: 0.49019938707351685 Accuracy: 0.859375\n",
            "0.9065\n",
            "Step 300 Loss: 0.2903391718864441 Accuracy: 0.921875\n",
            "0.908\n",
            "Step 400 Loss: 0.41081690788269043 Accuracy: 0.8984375\n",
            "0.9114\n",
            "Starting new epoch...\n",
            "Step 500 Loss: 0.3952747881412506 Accuracy: 0.921875\n",
            "0.9157\n",
            "Step 600 Loss: 0.24724885821342468 Accuracy: 0.9296875\n",
            "0.9148\n",
            "Step 700 Loss: 0.23941275477409363 Accuracy: 0.953125\n",
            "0.9172\n",
            "Step 800 Loss: 0.28432920575141907 Accuracy: 0.921875\n",
            "0.9199\n",
            "Step 900 Loss: 0.1934635192155838 Accuracy: 0.9453125\n",
            "0.9197\n",
            "Starting new epoch...\n"
          ]
        }
      ]
    },
    {
      "cell_type": "code",
      "metadata": {
        "id": "tM1PVnKew6fN"
      },
      "source": [
        "import matplotlib.pyplot as plt\n",
        "%matplotlib inline"
      ],
      "execution_count": 7,
      "outputs": []
    },
    {
      "cell_type": "code",
      "metadata": {
        "id": "7xarvrliURtP",
        "colab": {
          "base_uri": "https://localhost:8080/",
          "height": 296
        },
        "outputId": "15d76bc5-0ee6-47f7-9f81-d0c0ce1b49d9"
      },
      "source": [
        "plt.xlabel(\"Steps\")\n",
        "plt.ylabel(\"Accuracy\")\n",
        "plt.plot(steps, train_acc)\n",
        "plt.plot(steps, test_acc)\n",
        "plt.legend([\"Train\", \"Test\"])\n",
        "\n",
        "#plt.show()"
      ],
      "execution_count": 14,
      "outputs": [
        {
          "output_type": "execute_result",
          "data": {
            "text/plain": [
              "<matplotlib.legend.Legend at 0x7f665bd6b150>"
            ]
          },
          "metadata": {},
          "execution_count": 14
        },
        {
          "output_type": "display_data",
          "data": {
            "image/png": "[encoded data removed]",
            "text/plain": [
              "<Figure size 432x288 with 1 Axes>"
            ]
          },
          "metadata": {
            "needs_background": "light"
          }
        }
      ]
    },
    {
      "cell_type": "markdown",
      "metadata": {
        "id": "8-Fa3PgiYnqz"
      },
      "source": [
        "Initializing the weights and biases with zero would lead to a small gradient, which would be the same for all neurons.\n",
        "Larger batch sizes converge slower to an accuracy of 0.9.\n",
        "Small changes of the learning rate have the same results as as a learning rate of 0.1. Big changes of the learning rate have a low accuracy.\n",
        "More than 100 train steps result in a loop of increases and decreases of the accuracy, between 0.85 and 0.95.\n",
        "2 hidden layers have the same result as 1 hidden layer. Changing the numbers of neurons of the layers had almost the same result.\n",
        "The definition of the variables of each layer is redundant, complete layers from shapes would make that simpler."
      ]
    }
  ]
}