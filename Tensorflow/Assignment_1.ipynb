{
  "nbformat": 4,
  "nbformat_minor": 0,
  "metadata": {
    "colab": {
      "name": "ass1myversion.ipynb",
      "provenance": [],
      "collapsed_sections": []
    },
    "kernelspec": {
      "name": "python3",
      "display_name": "Python 3"
    },
    "language_info": {
      "name": "python"
    }
  },
  "cells": [
    {
      "cell_type": "markdown",
      "metadata": {
        "id": "VFHUG-gXQwyK"
      },
      "source": [
        "Group Details:\n",
        "\n",
        "*   Janusz Feigel\n",
        "*   Bhavana Malla\n",
        "*   Brinda Rao"
      ]
    },
    {
      "cell_type": "code",
      "metadata": {
        "id": "Mf3CHmn2Qt9-"
      },
      "source": [
        "import os\n",
        "import tensorflow as tf\n",
        "import numpy as np\n",
        "import matplotlib.pyplot as plt"
      ],
      "execution_count": 26,
      "outputs": []
    },
    {
      "cell_type": "code",
      "metadata": {
        "colab": {
          "base_uri": "https://localhost:8080/",
          "height": 52
        },
        "id": "9ZLEd3mpvFbD",
        "outputId": "95509c18-8adc-4907-cedd-7328ac1fce8d"
      },
      "source": [
        "print(\"TensorFlow version:\", tf.__version__)\n",
        "os.getcwd()"
      ],
      "execution_count": 27,
      "outputs": [
        {
          "output_type": "stream",
          "name": "stdout",
          "text": [
            "TensorFlow version: 2.6.0\n"
          ]
        },
        {
          "output_type": "execute_result",
          "data": {
            "application/vnd.google.colaboratory.intrinsic+json": {
              "type": "string"
            },
            "text/plain": [
              "'/content/drive/My Drive/Colab Notebooks'"
            ]
          },
          "metadata": {},
          "execution_count": 27
        }
      ]
    },
    {
      "cell_type": "code",
      "metadata": {
        "id": "noguZ3EpyCvl",
        "colab": {
          "base_uri": "https://localhost:8080/",
          "height": 35
        },
        "outputId": "eea8fa4d-2c59-4302-b2ab-5fd0ca392d27"
      },
      "source": [
        "os.chdir('/content/drive/My Drive/Colab Notebooks')\n",
        "os.getcwd()"
      ],
      "execution_count": 28,
      "outputs": [
        {
          "output_type": "execute_result",
          "data": {
            "application/vnd.google.colaboratory.intrinsic+json": {
              "type": "string"
            },
            "text/plain": [
              "'/content/drive/My Drive/Colab Notebooks'"
            ]
          },
          "metadata": {},
          "execution_count": 28
        }
      ]
    },
    {
      "cell_type": "code",
      "metadata": {
        "id": "IS5AWYEQVR9N"
      },
      "source": [
        "from datasets import MNISTDataset"
      ],
      "execution_count": 29,
      "outputs": []
    },
    {
      "cell_type": "code",
      "metadata": {
        "colab": {
          "base_uri": "https://localhost:8080/",
          "height": 298
        },
        "id": "I8S32qn7Vn8D",
        "outputId": "9e86db20-c555-4bb5-a126-aae978ea71f8"
      },
      "source": [
        "mnist = tf.keras.datasets.mnist\n",
        "(train_images, train_labels), (test_images, test_labels) = mnist.load_data()\n",
        "print(train_images.shape)\n",
        "print(test_images.shape)\n",
        "\n",
        "plt.imshow(train_images[0], cmap=\"Greys_r\")\n",
        "\n",
        "data = MNISTDataset(train_images.reshape([-1, 784]), train_labels, \n",
        "                    test_images.reshape([-1, 784]), test_labels,\n",
        "                    batch_size=128)"
      ],
      "execution_count": 30,
      "outputs": [
        {
          "output_type": "stream",
          "name": "stdout",
          "text": [
            "(60000, 28, 28)\n",
            "(10000, 28, 28)\n"
          ]
        },
        {
          "output_type": "display_data",
          "data": {
            "image/png": "[encoded data removed]",
            "text/plain": [
              "<Figure size 432x288 with 1 Axes>"
            ]
          },
          "metadata": {
            "needs_background": "light"
          }
        }
      ]
    },
    {
      "cell_type": "code",
      "metadata": {
        "id": "OF8XENPUPDId"
      },
      "source": [
        "train_steps = 1000\n",
        "learning_rate = 0.1\n",
        "\n",
        "#hidden layer 1 with 512 neurons\n",
        "W_hidden = tf.Variable(tf.random.uniform(shape=[784, 512], minval=-0.1, maxval=0.1, dtype=tf.dtypes.float32))\n",
        "b_hidden = tf.Variable(tf.random.uniform(shape=[512], minval=-0.1, maxval=0.1, dtype=tf.dtypes.float32))\n",
        "\n",
        "#hidden layer 2 with 256 neurons\n",
        "W_hidden2 = tf.Variable(tf.random.uniform(shape=[512, 256], minval=-0.1, maxval=0.1, dtype=tf.dtypes.float32))\n",
        "b_hidden2 = tf.Variable(tf.random.uniform(shape=[256], minval=-0.1, maxval=0.1, dtype=tf.dtypes.float32))\n",
        "\n",
        "#output layer with 10 neurons\n",
        "W_out = tf.Variable(tf.random.uniform(shape=[256, 10], minval=-0.1, maxval=0.1, dtype=tf.dtypes.float32))\n",
        "b_out = tf.Variable(tf.random.uniform(shape=[10], minval=-0.1, maxval=0.1, dtype=tf.dtypes.float32))"
      ],
      "execution_count": 31,
      "outputs": []
    },
    {
      "cell_type": "code",
      "metadata": {
        "id": "wJbLreFRhVaZ",
        "colab": {
          "base_uri": "https://localhost:8080/"
        },
        "outputId": "e81dbd9d-6854-4f78-b97d-dc905a2591db"
      },
      "source": [
        "train_acc = []\n",
        "test_acc = []\n",
        "steps = []\n",
        "for step in range(train_steps):\n",
        "    img_batch, lbl_batch = data.next_batch()\n",
        "    with tf.GradientTape() as tape:\n",
        "        #hidden layer 1\n",
        "        hidden1_logits = tf.matmul(img_batch, W_hidden) + b_hidden\n",
        "        #hidden layer 2\n",
        "        hidden2_logits = tf.matmul(hidden1_logits, W_hidden2) + b_hidden2\n",
        "        #output layer\n",
        "        out_logits = tf.matmul(hidden2_logits, W_out) + b_out\n",
        "        #output activation and loss\n",
        "        xent = tf.reduce_mean(tf.nn.sparse_softmax_cross_entropy_with_logits(\n",
        "            logits=out_logits, labels=lbl_batch))\n",
        "    \n",
        "    #backpropagation\n",
        "    grads = tape.gradient(xent, [W_hidden, b_hidden, W_hidden2, b_hidden2, W_out, b_out])\n",
        "    #gradient descent\n",
        "    W_hidden.assign_sub(learning_rate * grads[0])\n",
        "    b_hidden.assign_sub(learning_rate * grads[1])\n",
        "    W_hidden2.assign_sub(learning_rate * grads[2])\n",
        "    b_hidden2.assign_sub(learning_rate * grads[3])\n",
        "    W_out.assign_sub(learning_rate * grads[4])\n",
        "    b_out.assign_sub(learning_rate * grads[5])\n",
        "    \n",
        "    if step % 100 == 0:\n",
        "        preds = tf.argmax(out_logits, axis=1, output_type=tf.int32)\n",
        "        tr_acc = tf.reduce_mean(tf.cast(tf.equal(preds, lbl_batch), tf.float32))\n",
        "        print(\"Step {} Loss: {} Accuracy: {}\".format(step, xent, tr_acc))\n",
        "        hidden1_logits = tf.matmul(data.test_data, W_hidden) + b_hidden\n",
        "        hidden2_logits = tf.matmul(hidden1_logits, W_hidden2) + b_hidden2\n",
        "        out_logits = tf.matmul(hidden2_logits, W_out) + b_out\n",
        "\n",
        "        test_preds = tf.argmax(out_logits, axis=1, output_type=tf.int32)\n",
        "        te_acc = tf.reduce_mean(tf.cast(tf.equal(test_preds, data.test_labels), tf.float32))\n",
        "        print(te_acc.numpy())\n",
        "        train_acc.append(tr_acc)\n",
        "        test_acc.append(te_acc.numpy())\n",
        "        steps.append(step)"
      ],
      "execution_count": 32,
      "outputs": [
        {
          "output_type": "stream",
          "name": "stdout",
          "text": [
            "Step 0 Loss: 2.5180344581604004 Accuracy: 0.0546875\n",
            "0.1842\n",
            "Step 100 Loss: 0.28718018531799316 Accuracy: 0.9296875\n",
            "0.8967\n",
            "Step 200 Loss: 0.3914054036140442 Accuracy: 0.90625\n",
            "0.9045\n",
            "Step 300 Loss: 0.3099750578403473 Accuracy: 0.9140625\n",
            "0.9004\n",
            "Step 400 Loss: 0.2128191590309143 Accuracy: 0.953125\n",
            "0.9136\n",
            "Starting new epoch...\n",
            "Step 500 Loss: 0.20210792124271393 Accuracy: 0.9375\n",
            "0.9155\n",
            "Step 600 Loss: 0.24852150678634644 Accuracy: 0.953125\n",
            "0.9118\n",
            "Step 700 Loss: 0.22509002685546875 Accuracy: 0.9453125\n",
            "0.9112\n",
            "Step 800 Loss: 0.2882702350616455 Accuracy: 0.9140625\n",
            "0.9134\n",
            "Step 900 Loss: 0.41109731793403625 Accuracy: 0.90625\n",
            "0.9157\n",
            "Starting new epoch...\n"
          ]
        }
      ]
    },
    {
      "cell_type": "code",
      "metadata": {
        "id": "lmDSe5WqPcbX"
      },
      "source": [
        "import matplotlib.pyplot as plt\n",
        "%matplotlib inline"
      ],
      "execution_count": 33,
      "outputs": []
    },
    {
      "cell_type": "code",
      "metadata": {
        "colab": {
          "base_uri": "https://localhost:8080/",
          "height": 296
        },
        "id": "74pYPC-CPeUv",
        "outputId": "90d11caa-706b-4ac2-8c9d-da6053b47a92"
      },
      "source": [
        "plt.xlabel(\"Steps\")\n",
        "plt.ylabel(\"Accuracy\")\n",
        "plt.plot(steps, train_acc)\n",
        "plt.plot(steps, test_acc)\n",
        "plt.legend([\"Train\", \"Test\"])\n",
        "\n",
        "#plt.show()"
      ],
      "execution_count": 34,
      "outputs": [
        {
          "output_type": "execute_result",
          "data": {
            "text/plain": [
              "<matplotlib.legend.Legend at 0x7f42644a9d90>"
            ]
          },
          "metadata": {},
          "execution_count": 34
        },
        {
          "output_type": "display_data",
          "data": {
            "image/png": "[encoded data removed]",
            "text/plain": [
              "<Figure size 432x288 with 1 Axes>"
            ]
          },
          "metadata": {
            "needs_background": "light"
          }
        }
      ]
    },
    {
      "cell_type": "markdown",
      "metadata": {
        "id": "okonsfcYPv6O"
      },
      "source": [
        "Initializing the weights and biases with zero would lead to a small gradient, which would be the same for all neurons. Larger batch sizes converge slower to an accuracy of 0.9. Small changes of the learning rate have the same results as as a learning rate of 0.1. Big changes of the learning rate have a low accuracy. More than 100 train steps result in a loop of increases and decreases of the accuracy, between 0.85 and 0.95. 2 hidden layers have the same result as 1 hidden layer. Changing the numbers of neurons of the layers had almost the same result. The definition of the variables of each layer is redundant, complete layers from shapes would make that simpler."
      ]
    }
  ]
}