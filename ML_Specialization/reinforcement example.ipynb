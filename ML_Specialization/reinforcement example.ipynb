{
 "cells": [
  {
   "cell_type": "code",
   "execution_count": 9,
   "id": "0c6a97ba",
   "metadata": {},
   "outputs": [
    {
     "name": "stdout",
     "output_type": "stream",
     "text": [
      "[('Initial State:', ['[0.16120157 0.92234495 0.95063806 0.73367461 0.68581432 0.33379742\\n 0.13348679 0.61788432]']), ('Action:', ['0']), ('Next State:', ['[0.77271097 0.39002493 0.55055277 0.41816925 0.29411019 0.13781472\\n 0.71121814 0.86624969]']), ('Reward Received:', ['0.157']), ('Episode Terminated:', ['False'])]\n",
      "(['[0.16120157 0.92234495 0.95063806 0.73367461 0.68581432 0.33379742\\n 0.13348679 0.61788432]'], ['0'], ['[0.77271097 0.39002493 0.55055277 0.41816925 0.29411019 0.13781472\\n 0.71121814 0.86624969]'], ['0.157'], ['False'])\n",
      "('Initial State:', 'Action:', 'Next State:', 'Reward Received:', 'Episode Terminated:')\n"
     ]
    },
    {
     "data": {
      "text/html": [
       "<table class=\"simpletable\">\n",
       "<tr>\n",
       "  <th>Initial State:</th>      <td>[0.16120157 0.92234495 0.95063806 0.73367461 0.68581432 0.33379742\n",
       " 0.13348679 0.61788432]</td>\n",
       "</tr>\n",
       "<tr>\n",
       "  <th>Action:</th>                                                          <td>0</td>                                            \n",
       "</tr>\n",
       "<tr>\n",
       "  <th>Next State:</th>         <td>[0.77271097 0.39002493 0.55055277 0.41816925 0.29411019 0.13781472\n",
       " 0.71121814 0.86624969]</td>\n",
       "</tr>\n",
       "<tr>\n",
       "  <th>Reward Received:</th>                                               <td>0.157</td>                                          \n",
       "</tr>\n",
       "<tr>\n",
       "  <th>Episode Terminated:</th>                                            <td>False</td>                                          \n",
       "</tr>\n",
       "</table>"
      ],
      "text/plain": [
       "<class 'statsmodels.iolib.table.SimpleTable'>"
      ]
     },
     "execution_count": 9,
     "metadata": {},
     "output_type": "execute_result"
    }
   ],
   "source": [
    "import numpy as np\n",
    "from itertools import zip_longest\n",
    "from statsmodels.iolib.table import SimpleTable\n",
    "import random\n",
    "random.seed(0)\n",
    "\n",
    "initial_state = np.random.rand(8)\n",
    "next_state = np.random.rand(8)\n",
    "action = np.arange(3)\n",
    "reward = 0.1569586\n",
    "done = False\n",
    "\n",
    "table_info = [\n",
    "            (\"Initial State:\", [f\"{initial_state}\"]),\n",
    "            (\"Action:\", [f\"{action[0]}\"]),\n",
    "            (\"Next State:\", [f\"{next_state}\"]),\n",
    "            (\"Reward Received:\", [f\"{reward:.3f}\"]),\n",
    "            (\"Episode Terminated:\", [f\"{done}\"]),\n",
    "        ]\n",
    "\n",
    "print(table_info)\n",
    "\n",
    "# Generate table.\n",
    "row_labels, data = zip_longest(*table_info)\n",
    "print(data)\n",
    "print(row_labels)\n",
    "column_headers = None\n",
    "SimpleTable(data, column_headers, row_labels)"
   ]
  }
 ],
 "metadata": {
  "kernelspec": {
   "display_name": "Python 3 (ipykernel)",
   "language": "python",
   "name": "python3"
  },
  "language_info": {
   "codemirror_mode": {
    "name": "ipython",
    "version": 3
   },
   "file_extension": ".py",
   "mimetype": "text/x-python",
   "name": "python",
   "nbconvert_exporter": "python",
   "pygments_lexer": "ipython3",
   "version": "3.8.10"
  }
 },
 "nbformat": 4,
 "nbformat_minor": 5
}
