{
  "nbformat": 4,
  "nbformat_minor": 0,
  "metadata": {
    "colab": {
      "provenance": [],
      "machine_shape": "hm"
    },
    "kernelspec": {
      "name": "python3",
      "display_name": "Python 3"
    },
    "language_info": {
      "name": "python"
    },
    "accelerator": "GPU"
  },
  "cells": [
    {
      "cell_type": "code",
      "execution_count": null,
      "metadata": {
        "id": "did2J9eQ_QXX",
        "colab": {
          "base_uri": "https://localhost:8080/"
        },
        "outputId": "951e22f7-2ccb-412c-c4ea-d0f4faebeb93"
      },
      "outputs": [
        {
          "output_type": "stream",
          "name": "stdout",
          "text": [
            "Mounted at /content/drive\n"
          ]
        }
      ],
      "source": [
        "from google.colab import drive\n",
        "drive.mount('/content/drive')"
      ]
    },
    {
      "cell_type": "code",
      "source": [
        "%cd /content/drive/MyDrive/ATML/"
      ],
      "metadata": {
        "colab": {
          "base_uri": "https://localhost:8080/"
        },
        "id": "HSVp_cYh2IbA",
        "outputId": "e713359c-de6f-44d1-81d6-501127b1122f"
      },
      "execution_count": null,
      "outputs": [
        {
          "output_type": "stream",
          "name": "stdout",
          "text": [
            "/content/drive/MyDrive/ATML\n"
          ]
        }
      ]
    },
    {
      "cell_type": "code",
      "source": [
        "import os\n",
        "import string\n",
        "from pathlib import Path\n",
        "\n",
        "from sklearn.feature_extraction.text import TfidfVectorizer, CountVectorizer\n",
        "\n",
        "import spacy\n",
        "\n",
        "from gensim.models import Word2Vec\n",
        "import nltk\n",
        "import re\n",
        "import pandas as pd\n",
        "\n",
        "from nltk import ngrams\n",
        "\n",
        "import gensim\n",
        "import gensim.corpora as corpora\n",
        "from gensim.utils import simple_preprocess\n",
        "from gensim.models import CoherenceModel\n",
        "\n",
        "from pprint import pprint\n",
        "\n",
        "import numpy as np\n",
        "import pickle\n",
        "\n",
        "from nltk.corpus import stopwords\n",
        "nltk.download('punkt')\n",
        "nltk.download('stopwords')\n",
        "\n",
        "from sklearn.metrics import silhouette_samples, silhouette_score\n",
        "\n",
        "import matplotlib.pyplot as plt\n",
        "import matplotlib.cm as cm\n",
        "\n",
        "from sklearn.cluster import MiniBatchKMeans, KMeans\n",
        "\n",
        "from sklearn.manifold import TSNE\n",
        "import matplotlib.pyplot as plt\n",
        "%matplotlib inline"
      ],
      "metadata": {
        "colab": {
          "base_uri": "https://localhost:8080/"
        },
        "id": "jmYOCVRF95ev",
        "outputId": "544cbbc7-e62c-4e6a-b628-0ee615645a36"
      },
      "execution_count": null,
      "outputs": [
        {
          "output_type": "stream",
          "name": "stderr",
          "text": [
            "[nltk_data] Downloading package punkt to /root/nltk_data...\n",
            "[nltk_data]   Unzipping tokenizers/punkt.zip.\n",
            "[nltk_data] Downloading package stopwords to /root/nltk_data...\n",
            "[nltk_data]   Unzipping corpora/stopwords.zip.\n"
          ]
        }
      ]
    },
    {
      "cell_type": "code",
      "source": [
        "rootdir = '/content/drive/MyDrive/ATML/Datasets/TREC_4_5/'\n",
        "iterable_lines = []\n",
        "for subdir, dirs, files in os.walk(rootdir):\n",
        "    for file in files:\n",
        "      #print(\"Parsing through:\", os.path.join(subdir, file))\n",
        "      f = open((str(subdir)+\"/\"+str(file)), 'r', encoding=\"ISO-8859-1\")\n",
        "      lines = f.read()\n",
        "      f.close()\n",
        "      iterable_lines += [lines]"
      ],
      "metadata": {
        "id": "xqzjXYua9R1h"
      },
      "execution_count": null,
      "outputs": []
    },
    {
      "cell_type": "code",
      "source": [
        "processed_articles = []\n",
        "for i in iterable_lines:\n",
        "  processed_article = i.lower()\n",
        "  processed_article = re.sub(r\"\\[.*?\\]\", '', processed_article)\n",
        "  processed_article = re.sub(r\"https?://\\S+|www\\.\\S+\", '', processed_article)\n",
        "  processed_article = re.sub(r\"<.*?>+\", '', processed_article)\n",
        "  processed_article = re.sub(r\"[%s]\" % re.escape(string.punctuation), '', processed_article)\n",
        "  processed_article = re.sub(r\"\\n\", ' ', processed_article)\n",
        "  processed_article = re.sub(r\"\\w*\\d\\w*\", '', processed_article)\n",
        "  processed_article = re.sub(r\" +\", ' ', processed_article)\n",
        "  processed_articles += [processed_article]"
      ],
      "metadata": {
        "id": "ql3fcT42K-4M"
      },
      "execution_count": null,
      "outputs": []
    },
    {
      "cell_type": "code",
      "source": [
        "tokenized_processed_articles = []\n",
        "\n",
        "for i in range(len(processed_articles)):\n",
        "  tokenized_processed_articles += [nltk.word_tokenize(processed_articles[i])]"
      ],
      "metadata": {
        "id": "DTdQiFfuOCIT"
      },
      "execution_count": null,
      "outputs": []
    },
    {
      "cell_type": "code",
      "source": [
        "from gensim.models.doc2vec import Doc2Vec, TaggedDocument"
      ],
      "metadata": {
        "id": "uP9bS0QzFm2s"
      },
      "execution_count": null,
      "outputs": []
    },
    {
      "cell_type": "code",
      "source": [
        "tagged_data = [TaggedDocument(d, [i]) for i, d in enumerate(tokenized_processed_articles)]"
      ],
      "metadata": {
        "id": "owQSAcnYFtSX"
      },
      "execution_count": null,
      "outputs": []
    },
    {
      "cell_type": "code",
      "source": [
        "## Train doc2vec model\n",
        "model = Doc2Vec(tagged_data, vector_size=20, window=2, min_count=1, workers=4, epochs = 100)\n",
        "# Save trained doc2vec model\n",
        "model.save(\"test_doc2vec.model\")\n",
        "## Load saved doc2vec model\n",
        "model= Doc2Vec.load(\"test_doc2vec.model\")\n",
        "## Print model vocabulary\n",
        "model.wv.vocab"
      ],
      "metadata": {
        "id": "okeLnz7AGE2z"
      },
      "execution_count": null,
      "outputs": []
    },
    {
      "cell_type": "code",
      "source": [
        "similar_doc0 = model.docvecs.most_similar(0, topn=10)\n",
        "print(similar_doc0)\n",
        "similar_doc1 = model.docvecs.most_similar(1, topn=10)\n",
        "print(similar_doc1)\n",
        "similar_doc2 = model.docvecs.most_similar(2, topn=10)\n",
        "print(similar_doc2)\n",
        "similar_doc3 = model.docvecs.most_similar(3, topn=10)\n",
        "print(similar_doc3)\n",
        "similar_doc4 = model.docvecs.most_similar(4, topn=10)\n",
        "print(similar_doc4)\n",
        "\n",
        "similar_doc2000 = model.docvecs.most_similar(2000, topn=10)\n",
        "print(similar_doc2000)\n",
        "similar_doc2321 = model.docvecs.most_similar(2321, topn=10)\n",
        "print(similar_doc2321)"
      ],
      "metadata": {
        "colab": {
          "base_uri": "https://localhost:8080/"
        },
        "id": "1XDEs-_CGZ9x",
        "outputId": "35ec31c4-9172-41f3-afa3-0bbe326740fb"
      },
      "execution_count": null,
      "outputs": [
        {
          "output_type": "stream",
          "name": "stdout",
          "text": [
            "[(1719, 0.9259120225906372), (1, 0.9208170771598816), (435, 0.8730108141899109), (331, 0.8703013062477112), (381, 0.8678396940231323), (33, 0.8667579889297485), (205, 0.8556736707687378), (17, 0.8493033647537231), (463, 0.848865270614624), (358, 0.848380982875824)]\n",
            "[(1721, 0.9360358715057373), (0, 0.9208170771598816), (1720, 0.9058445692062378), (1719, 0.8986315727233887), (8, 0.8698457479476929), (875, 0.8672803640365601), (1722, 0.8636967539787292), (463, 0.8436306118965149), (33, 0.8352730870246887), (396, 0.8315575122833252)]\n",
            "[(6, 0.8907309174537659), (3, 0.8883166909217834), (7, 0.8677631616592407), (9, 0.8658217191696167), (12, 0.8651233911514282), (192, 0.8499375581741333), (43, 0.8382378816604614), (168, 0.8359280228614807), (84, 0.8354265093803406), (10, 0.8349480628967285)]\n",
            "[(7, 0.9296544194221497), (12, 0.9268221855163574), (2, 0.8883167505264282), (10, 0.8789518475532532), (5, 0.8712151050567627), (14, 0.8632982969284058), (13, 0.848289966583252), (2321, 0.825334906578064), (11, 0.8245841860771179), (6, 0.8194361925125122)]\n",
            "[(9, 0.8973874449729919), (2318, 0.8590890169143677), (2316, 0.847775936126709), (2317, 0.8458973169326782), (21, 0.8146499395370483), (2321, 0.8061650991439819), (6, 0.8005293607711792), (14, 0.7989346385002136), (10, 0.7946394681930542), (127, 0.7898296117782593)]\n",
            "[(2226, 0.9857926964759827), (2213, 0.9854896664619446), (2066, 0.978428840637207), (1879, 0.9781217575073242), (2111, 0.9750905632972717), (2291, 0.9738290309906006), (1985, 0.9730476140975952), (1996, 0.9727583527565002), (1957, 0.9724160432815552), (1929, 0.9718913435935974)]\n",
            "[(6, 0.8778898119926453), (3, 0.8253348469734192), (131, 0.8218399882316589), (96, 0.8202999234199524), (9, 0.819993257522583), (145, 0.8139591217041016), (163, 0.8117595911026001), (114, 0.8117002844810486), (2, 0.8104382753372192), (358, 0.8093897104263306)]\n"
          ]
        },
        {
          "output_type": "stream",
          "name": "stderr",
          "text": [
            "/usr/local/lib/python3.7/dist-packages/gensim/matutils.py:737: DeprecationWarning: `np.int` is a deprecated alias for the builtin `int`. To silence this warning, use `int` by itself. Doing this will not modify any behavior and is safe. When replacing `np.int`, you may wish to use e.g. `np.int64` or `np.int32` to specify the precision. If you wish to review your current use, check the release note link for additional information.\n",
            "Deprecated in NumPy 1.20; for more details and guidance: https://numpy.org/devdocs/release/1.20.0-notes.html#deprecations\n",
            "  if np.issubdtype(vec.dtype, np.int):\n",
            "/usr/local/lib/python3.7/dist-packages/gensim/matutils.py:737: DeprecationWarning: `np.int` is a deprecated alias for the builtin `int`. To silence this warning, use `int` by itself. Doing this will not modify any behavior and is safe. When replacing `np.int`, you may wish to use e.g. `np.int64` or `np.int32` to specify the precision. If you wish to review your current use, check the release note link for additional information.\n",
            "Deprecated in NumPy 1.20; for more details and guidance: https://numpy.org/devdocs/release/1.20.0-notes.html#deprecations\n",
            "  if np.issubdtype(vec.dtype, np.int):\n",
            "/usr/local/lib/python3.7/dist-packages/gensim/matutils.py:737: DeprecationWarning: `np.int` is a deprecated alias for the builtin `int`. To silence this warning, use `int` by itself. Doing this will not modify any behavior and is safe. When replacing `np.int`, you may wish to use e.g. `np.int64` or `np.int32` to specify the precision. If you wish to review your current use, check the release note link for additional information.\n",
            "Deprecated in NumPy 1.20; for more details and guidance: https://numpy.org/devdocs/release/1.20.0-notes.html#deprecations\n",
            "  if np.issubdtype(vec.dtype, np.int):\n",
            "/usr/local/lib/python3.7/dist-packages/gensim/matutils.py:737: DeprecationWarning: `np.int` is a deprecated alias for the builtin `int`. To silence this warning, use `int` by itself. Doing this will not modify any behavior and is safe. When replacing `np.int`, you may wish to use e.g. `np.int64` or `np.int32` to specify the precision. If you wish to review your current use, check the release note link for additional information.\n",
            "Deprecated in NumPy 1.20; for more details and guidance: https://numpy.org/devdocs/release/1.20.0-notes.html#deprecations\n",
            "  if np.issubdtype(vec.dtype, np.int):\n",
            "/usr/local/lib/python3.7/dist-packages/gensim/matutils.py:737: DeprecationWarning: `np.int` is a deprecated alias for the builtin `int`. To silence this warning, use `int` by itself. Doing this will not modify any behavior and is safe. When replacing `np.int`, you may wish to use e.g. `np.int64` or `np.int32` to specify the precision. If you wish to review your current use, check the release note link for additional information.\n",
            "Deprecated in NumPy 1.20; for more details and guidance: https://numpy.org/devdocs/release/1.20.0-notes.html#deprecations\n",
            "  if np.issubdtype(vec.dtype, np.int):\n",
            "/usr/local/lib/python3.7/dist-packages/gensim/matutils.py:737: DeprecationWarning: `np.int` is a deprecated alias for the builtin `int`. To silence this warning, use `int` by itself. Doing this will not modify any behavior and is safe. When replacing `np.int`, you may wish to use e.g. `np.int64` or `np.int32` to specify the precision. If you wish to review your current use, check the release note link for additional information.\n",
            "Deprecated in NumPy 1.20; for more details and guidance: https://numpy.org/devdocs/release/1.20.0-notes.html#deprecations\n",
            "  if np.issubdtype(vec.dtype, np.int):\n",
            "/usr/local/lib/python3.7/dist-packages/gensim/matutils.py:737: DeprecationWarning: `np.int` is a deprecated alias for the builtin `int`. To silence this warning, use `int` by itself. Doing this will not modify any behavior and is safe. When replacing `np.int`, you may wish to use e.g. `np.int64` or `np.int32` to specify the precision. If you wish to review your current use, check the release note link for additional information.\n",
            "Deprecated in NumPy 1.20; for more details and guidance: https://numpy.org/devdocs/release/1.20.0-notes.html#deprecations\n",
            "  if np.issubdtype(vec.dtype, np.int):\n"
          ]
        }
      ]
    },
    {
      "cell_type": "code",
      "source": [
        "\"\"\"X = []\n",
        "Y = []\n",
        "\n",
        "vectorizer = TfidfVectorizer(sublinear_tf=True, max_df=1, stop_words=\"english\", ngram_range=(3, 3))\n",
        "X += vectorizer.fit_transform(processed_articles)\n",
        "Y.append(vectorizer.get_feature_names_out())\n",
        "\n",
        "print(X[0])\n",
        "print(Y[0])\"\"\""
      ],
      "metadata": {
        "id": "bqJvJ8sMaSK6"
      },
      "execution_count": null,
      "outputs": []
    },
    {
      "cell_type": "code",
      "source": [
        "\"\"\"with open('X.pickle', 'wb') as handle:\n",
        "    pickle.dump(X, handle, protocol=pickle.HIGHEST_PROTOCOL)\n",
        "\n",
        "with open('Y.pickle', 'wb') as handle:\n",
        "    pickle.dump(Y, handle, protocol=pickle.HIGHEST_PROTOCOL)\"\"\""
      ],
      "metadata": {
        "id": "z_ZgyUeUZDXF"
      },
      "execution_count": null,
      "outputs": []
    },
    {
      "cell_type": "code",
      "source": [
        "model = Word2Vec(sentences=tokenized_processed_articles, min_count=3)"
      ],
      "metadata": {
        "id": "eZvXl9FP22q1"
      },
      "execution_count": null,
      "outputs": []
    },
    {
      "cell_type": "code",
      "source": [
        "print(len(tokenized_processed_articles))"
      ],
      "metadata": {
        "colab": {
          "base_uri": "https://localhost:8080/"
        },
        "id": "ypmycGjhowIY",
        "outputId": "811fe7ed-b560-4f5b-d0ac-27b16e5f5489"
      },
      "execution_count": null,
      "outputs": [
        {
          "output_type": "stream",
          "name": "stdout",
          "text": [
            "2322\n"
          ]
        }
      ]
    },
    {
      "cell_type": "code",
      "source": [
        "print(model.wv[model.wv.vocab])"
      ],
      "metadata": {
        "id": "GkfiRGCgsBtz"
      },
      "execution_count": null,
      "outputs": []
    },
    {
      "cell_type": "code",
      "source": [
        "import warnings\n",
        "warnings.filterwarnings(\"ignore\", category=DeprecationWarning)"
      ],
      "metadata": {
        "id": "9N-dOxP5Wzbo"
      },
      "execution_count": null,
      "outputs": []
    },
    {
      "cell_type": "code",
      "source": [
        "def tsne_plot(model):\n",
        "    \"Creates and TSNE model and plots it\"\n",
        "    labels = []\n",
        "    tokens = []\n",
        "\n",
        "    for word in model.wv.vocab:\n",
        "        tokens.append(model[word])\n",
        "        labels.append(word)\n",
        "\n",
        "    tsne_model = TSNE(perplexity=40, n_components=2, init='pca', n_iter=2500, random_state=23)\n",
        "    new_values = tsne_model.fit_transform(tokens)\n",
        "\n",
        "    x = []\n",
        "    y = []\n",
        "    for value in new_values:\n",
        "        x.append(value[0])\n",
        "        y.append(value[1])\n",
        "\n",
        "    plt.figure(figsize=(16, 16))\n",
        "    for i in range(len(x)):\n",
        "        plt.scatter(x[i],y[i])\n",
        "        plt.annotate(labels[i],\n",
        "                     xy=(x[i], y[i]),\n",
        "                     xytext=(5, 2),\n",
        "                     textcoords='offset points',\n",
        "                     ha='right',\n",
        "                     va='bottom')\n",
        "    plt.show()"
      ],
      "metadata": {
        "id": "ivUy2UWDVRp3"
      },
      "execution_count": null,
      "outputs": []
    },
    {
      "cell_type": "code",
      "source": [
        "tsne_plot(model)"
      ],
      "metadata": {
        "colab": {
          "base_uri": "https://localhost:8080/"
        },
        "id": "0HOVYJznVLgY",
        "outputId": "2bb157f9-899f-4e9d-803c-8b60b2d457a9"
      },
      "execution_count": null,
      "outputs": [
        {
          "output_type": "stream",
          "name": "stderr",
          "text": [
            "/usr/local/lib/python3.7/dist-packages/sklearn/manifold/_t_sne.py:793: FutureWarning: The default learning rate in TSNE will change from 200.0 to 'auto' in 1.2.\n",
            "  FutureWarning,\n"
          ]
        }
      ]
    },
    {
      "cell_type": "code",
      "source": [
        "def vectorize(list_of_docs, model):\n",
        "    \"\"\"Generate vectors for list of documents using a Word Embedding\n",
        "\n",
        "    Args:\n",
        "        list_of_docs: List of documents\n",
        "        model: Gensim's Word Embedding\n",
        "\n",
        "    Returns:\n",
        "        List of document vectors\n",
        "    \"\"\"\n",
        "    features = []\n",
        "\n",
        "    for tokens in list_of_docs:\n",
        "        zero_vector = np.zeros(model.vector_size)\n",
        "        vectors = []\n",
        "        for token in tokens:\n",
        "            if token in model.wv:\n",
        "                try:\n",
        "                    vectors.append(model.wv[token])\n",
        "                except KeyError:\n",
        "                    continue\n",
        "        if vectors:\n",
        "            vectors = np.asarray(vectors)\n",
        "            avg_vec = vectors.mean(axis=0)\n",
        "            features.append(avg_vec)\n",
        "        else:\n",
        "            features.append(zero_vector)\n",
        "    return features"
      ],
      "metadata": {
        "id": "6M2jEe42sObm"
      },
      "execution_count": null,
      "outputs": []
    },
    {
      "cell_type": "code",
      "source": [
        "vectorized_docs = vectorize(tokenized_processed_articles, model=model)"
      ],
      "metadata": {
        "id": "XlND0xRc13-u"
      },
      "execution_count": null,
      "outputs": []
    },
    {
      "cell_type": "code",
      "source": [
        "print(len(vectorized_docs))\n",
        "print(vectorized_docs[0])"
      ],
      "metadata": {
        "colab": {
          "base_uri": "https://localhost:8080/"
        },
        "id": "IHfaxZcz9UVn",
        "outputId": "731783ed-168c-4c30-e180-45ce51460964"
      },
      "execution_count": null,
      "outputs": [
        {
          "output_type": "stream",
          "name": "stdout",
          "text": [
            "2322\n",
            "[ 0.10668095  0.21685377  0.3814452  -0.10937795  0.28970343  0.25739247\n",
            " -0.26988423 -0.08210105 -0.28112382  0.165981   -0.3101984   0.10759725\n",
            " -0.08847609 -0.01950329 -0.2083244   0.04062411  0.08208811  0.07595492\n",
            " -0.19668502  0.12102334 -0.0939832  -0.09994192  0.00961801 -0.13717876\n",
            "  0.02215265  0.01620639  0.05576458 -0.1288722  -0.2014965   0.20612912\n",
            "  0.04390315 -0.09053916  0.23518729  0.2536686   0.24963814 -0.07496209\n",
            "  0.17899428  0.12169539 -0.10910738  0.07794891  0.07933196 -0.16614404\n",
            " -0.17710504 -0.07673781  0.09598435 -0.00566482  0.1358918   0.10398067\n",
            "  0.06321747 -0.08025536  0.11495183 -0.24047987  0.01256741  0.17859943\n",
            " -0.00905805  0.44615373  0.13726847 -0.0496012  -0.14516707  0.15225166\n",
            "  0.09062134  0.21400875 -0.26505592  0.04304276 -0.10945289  0.12523264\n",
            " -0.32489845  0.15702198 -0.20492506  0.06766742  0.16488767 -0.04478546\n",
            "  0.21743427  0.00696482  0.10480915 -0.24906096  0.03491632  0.35398495\n",
            "  0.3265667   0.09780473  0.1170858  -0.05552864  0.19840825 -0.02494147\n",
            "  0.06295386  0.14705655 -0.10796484  0.27051497  0.6983566  -0.05628105\n",
            "  0.0598913   0.00329606 -0.06045356 -0.02366964  0.14387806 -0.1060309\n",
            "  0.02722492 -0.30340564 -0.61795574 -0.05075705]\n"
          ]
        }
      ]
    },
    {
      "cell_type": "code",
      "source": [
        "def mbkmeans_clusters(\n",
        "\tX,\n",
        "    k,\n",
        "    mb,\n",
        "    print_silhouette_values,\n",
        "):\n",
        "    \"\"\"Generate clusters and print Silhouette metrics using MBKmeans\n",
        "\n",
        "    Args:\n",
        "        X: Matrix of features.\n",
        "        k: Number of clusters.\n",
        "        mb: Size of mini-batches.\n",
        "        print_silhouette_values: Print silhouette values per cluster.\n",
        "\n",
        "    Returns:\n",
        "        Trained clustering model and labels based on X.\n",
        "    \"\"\"\n",
        "    km = MiniBatchKMeans(n_clusters=k, batch_size=mb).fit(X)\n",
        "    print(f\"For n_clusters = {k}\")\n",
        "    print(f\"Silhouette coefficient: {silhouette_score(X, km.labels_):0.2f}\")\n",
        "    print(f\"Inertia:{km.inertia_}\")\n",
        "\n",
        "    if print_silhouette_values:\n",
        "        sample_silhouette_values = silhouette_samples(X, km.labels_)\n",
        "        print(f\"Silhouette values:\")\n",
        "        silhouette_values = []\n",
        "        for i in range(k):\n",
        "            cluster_silhouette_values = sample_silhouette_values[km.labels_ == i]\n",
        "            silhouette_values.append(\n",
        "                (\n",
        "                    i,\n",
        "                    cluster_silhouette_values.shape[0],\n",
        "                    cluster_silhouette_values.mean(),\n",
        "                    cluster_silhouette_values.min(),\n",
        "                    cluster_silhouette_values.max(),\n",
        "                )\n",
        "            )\n",
        "        silhouette_values = sorted(\n",
        "            silhouette_values, key=lambda tup: tup[2], reverse=True\n",
        "        )\n",
        "        for s in silhouette_values:\n",
        "            print(\n",
        "                f\"    Cluster {s[0]}: Size:{s[1]} | Avg:{s[2]:.2f} | Min:{s[3]:.2f} | Max: {s[4]:.2f}\"\n",
        "            )\n",
        "    return km, km.labels_"
      ],
      "metadata": {
        "id": "8inHdC3bzDKY"
      },
      "execution_count": null,
      "outputs": []
    },
    {
      "cell_type": "code",
      "source": [
        "clustering, cluster_labels = mbkmeans_clusters(\n",
        "\tX=vectorized_docs,\n",
        "    k=50,\n",
        "    mb=500,\n",
        "    print_silhouette_values=True,\n",
        ")"
      ],
      "metadata": {
        "colab": {
          "base_uri": "https://localhost:8080/"
        },
        "id": "9kepPaX7Bjg2",
        "outputId": "0a461ac1-319f-41bd-ffac-1e09b8b203ee"
      },
      "execution_count": null,
      "outputs": [
        {
          "output_type": "stream",
          "name": "stdout",
          "text": [
            "For n_clusters = 50\n",
            "Silhouette coefficient: 0.18\n",
            "Inertia:3.7410214086777653\n",
            "Silhouette values:\n",
            "    Cluster 1: Size:5 | Avg:0.88 | Min:0.69 | Max: 0.93\n",
            "    Cluster 10: Size:10 | Avg:0.41 | Min:-0.08 | Max: 0.62\n",
            "    Cluster 46: Size:19 | Avg:0.40 | Min:0.08 | Max: 0.58\n",
            "    Cluster 38: Size:18 | Avg:0.35 | Min:0.06 | Max: 0.54\n",
            "    Cluster 6: Size:10 | Avg:0.34 | Min:-0.07 | Max: 0.58\n",
            "    Cluster 9: Size:23 | Avg:0.31 | Min:0.02 | Max: 0.52\n",
            "    Cluster 26: Size:50 | Avg:0.31 | Min:0.03 | Max: 0.51\n",
            "    Cluster 47: Size:5 | Avg:0.31 | Min:-0.13 | Max: 0.51\n",
            "    Cluster 8: Size:65 | Avg:0.29 | Min:0.01 | Max: 0.48\n",
            "    Cluster 13: Size:27 | Avg:0.29 | Min:0.06 | Max: 0.48\n",
            "    Cluster 33: Size:21 | Avg:0.29 | Min:0.04 | Max: 0.51\n",
            "    Cluster 15: Size:48 | Avg:0.28 | Min:0.06 | Max: 0.48\n",
            "    Cluster 16: Size:28 | Avg:0.28 | Min:0.03 | Max: 0.46\n",
            "    Cluster 41: Size:30 | Avg:0.27 | Min:-0.07 | Max: 0.50\n",
            "    Cluster 12: Size:62 | Avg:0.27 | Min:-0.10 | Max: 0.48\n",
            "    Cluster 28: Size:76 | Avg:0.25 | Min:-0.03 | Max: 0.44\n",
            "    Cluster 32: Size:71 | Avg:0.23 | Min:0.02 | Max: 0.43\n",
            "    Cluster 14: Size:53 | Avg:0.22 | Min:-0.06 | Max: 0.39\n",
            "    Cluster 31: Size:58 | Avg:0.22 | Min:-0.06 | Max: 0.42\n",
            "    Cluster 48: Size:78 | Avg:0.20 | Min:-0.04 | Max: 0.44\n",
            "    Cluster 18: Size:9 | Avg:0.19 | Min:-0.17 | Max: 0.45\n",
            "    Cluster 21: Size:48 | Avg:0.19 | Min:-0.25 | Max: 0.46\n",
            "    Cluster 34: Size:123 | Avg:0.18 | Min:-0.21 | Max: 0.45\n",
            "    Cluster 19: Size:72 | Avg:0.18 | Min:-0.03 | Max: 0.36\n",
            "    Cluster 4: Size:28 | Avg:0.18 | Min:-0.00 | Max: 0.36\n",
            "    Cluster 7: Size:62 | Avg:0.18 | Min:-0.06 | Max: 0.36\n",
            "    Cluster 2: Size:107 | Avg:0.18 | Min:0.04 | Max: 0.34\n",
            "    Cluster 27: Size:12 | Avg:0.17 | Min:-0.12 | Max: 0.29\n",
            "    Cluster 40: Size:80 | Avg:0.16 | Min:-0.24 | Max: 0.42\n",
            "    Cluster 49: Size:59 | Avg:0.16 | Min:-0.14 | Max: 0.32\n",
            "    Cluster 24: Size:45 | Avg:0.16 | Min:-0.00 | Max: 0.30\n",
            "    Cluster 37: Size:116 | Avg:0.16 | Min:-0.07 | Max: 0.38\n",
            "    Cluster 11: Size:116 | Avg:0.16 | Min:-0.08 | Max: 0.31\n",
            "    Cluster 23: Size:27 | Avg:0.16 | Min:0.00 | Max: 0.27\n",
            "    Cluster 35: Size:44 | Avg:0.16 | Min:-0.02 | Max: 0.28\n",
            "    Cluster 5: Size:59 | Avg:0.15 | Min:-0.08 | Max: 0.37\n",
            "    Cluster 43: Size:56 | Avg:0.15 | Min:-0.06 | Max: 0.33\n",
            "    Cluster 42: Size:41 | Avg:0.14 | Min:-0.06 | Max: 0.37\n",
            "    Cluster 20: Size:89 | Avg:0.14 | Min:-0.10 | Max: 0.33\n",
            "    Cluster 3: Size:29 | Avg:0.14 | Min:-0.18 | Max: 0.39\n",
            "    Cluster 29: Size:21 | Avg:0.12 | Min:-0.01 | Max: 0.28\n",
            "    Cluster 22: Size:40 | Avg:0.11 | Min:-0.14 | Max: 0.25\n",
            "    Cluster 25: Size:52 | Avg:0.10 | Min:-0.11 | Max: 0.26\n",
            "    Cluster 17: Size:61 | Avg:0.07 | Min:-0.12 | Max: 0.25\n",
            "    Cluster 39: Size:56 | Avg:0.07 | Min:-0.26 | Max: 0.31\n",
            "    Cluster 45: Size:29 | Avg:0.07 | Min:-0.19 | Max: 0.34\n",
            "    Cluster 44: Size:17 | Avg:0.06 | Min:-0.17 | Max: 0.32\n",
            "    Cluster 30: Size:35 | Avg:-0.02 | Min:-0.31 | Max: 0.24\n",
            "    Cluster 0: Size:27 | Avg:-0.24 | Min:-0.46 | Max: 0.04\n",
            "    Cluster 36: Size:5 | Avg:-0.52 | Min:-0.78 | Max: 0.05\n"
          ]
        }
      ]
    },
    {
      "cell_type": "code",
      "source": [
        "print(clustering)\n",
        "print(cluster_labels)"
      ],
      "metadata": {
        "colab": {
          "base_uri": "https://localhost:8080/"
        },
        "id": "stPpViY0FydZ",
        "outputId": "3944405f-7118-455c-f16a-442586048f5b"
      },
      "execution_count": null,
      "outputs": [
        {
          "output_type": "stream",
          "name": "stdout",
          "text": [
            "MiniBatchKMeans(batch_size=500, n_clusters=50)\n",
            "[ 7  6 16  9 18 20 16 48 22 33 15 13  7  8 47  9 31 22 47 48 12 20 37 31\n",
            " 13 32 37 40 12 20 31 22 48 12 19 19 20 43 32 33 40 31 45 13 32 17  0 49\n",
            " 15 44 32 44 12  7 14 40 24  1 35 29 49 49 38 11 41 48 36 41 29 42 36 24\n",
            " 29 10 29 36 35 46 42 28 41  8 14 29 10 36 29 10 30 10  1 38 28  1  1  7\n",
            "  1 41 28 49 41 36 29  5 10 29 28 24 11 41  1 11 36 21 29 29 24 11 10 46\n",
            " 28 24 35 24 29  1 35  1 29 39 19 24 10 28 42 29 46 29 41 46 21 11 12 15\n",
            "  3  7 34 45 18  3 25 16 13 34 32  8  4 12 17  8 48 17 18 12  8 32  3 16\n",
            " 44 13  0 33 44 31 13 18  2 40  3 20 44 32  3 44 27 34  3  8 31 13 44 26\n",
            " 44 33 16 20 26 22  8 48 17 47 22 31 16 40 16 26 12 27 16  0 27 16 26 26\n",
            " 32 33 32 26 16 17 48 19 12 32 45 32 22 33 31 31 34 18 12 17 48 49 34 22\n",
            " 31 34 31  8 32  0 31 26 18 22 33 12 32 48 13 12 15 31  9 23 48  0 28 48\n",
            " 32 12  0 17 19 20 40 26 17 48 31  8 26 26 17 18 12 14  0 22 31 27 48 12\n",
            " 42 46  1 10 35  1 28  5 30 36 28 49 29 30 36 35 30 29  1 11  1 28 38 46\n",
            "  1 19 30 29 42  5 49 30 28 30 30 11 21 30  1 11 24 28 41 45 20 26 26 18\n",
            " 22 22  8 31 23 13 43 34 31 32 13 26 23 48 17 34 26 23 13 17  0 20 32 20\n",
            " 26 33 18 25 12  4 45 14 48 16 48 32 32 20 12 44 22 22 22 31 18 32 29 11\n",
            " 28 30 30 29  1 11  1 10 11 46 29 10 42 46 14 10 24 36 29 36 42 42 24 49\n",
            "  5 10 10  7 30 10  1 27  5 42 11  5 29  5 42 30  1 48 31 16  7 17 26 47\n",
            " 16 44 26 34 27  0 17 29 20 44 33 31 32 16  3 16 20  3 27 31 45 18  4 27\n",
            " 48 14  3 26 27 16 47 12 44 16 45 47 25 17 48 45 14 17 33 27 23 45 16 18\n",
            " 33 17 16 12 32 37 37  9 12 44 12 18  3 27 32 17 48 23 44 27 45 16  0 45\n",
            " 29  3 48 17 13 37 44 22 16 37 34 32 33 36 31  3 25 44 14 17 33 16 20 23\n",
            "  7  7 48 20  4 42 46 29 29 42 38 30 42 29 36  7  1 42 10 41 44 14 37 16\n",
            " 48 14 12 12 33 27 44 16 32 18 17 33 16 44 32  3 37 27  3 16  3 47 17 27\n",
            " 20 36 17 17 14 26  7 22 44 16 48  3 31 33 47 17 34 14 33]\n"
          ]
        }
      ]
    },
    {
      "cell_type": "code",
      "source": [
        "vectorized_docs_array = np.asarray(vectorized_docs, dtype=np.float32)"
      ],
      "metadata": {
        "colab": {
          "base_uri": "https://localhost:8080/"
        },
        "id": "Ws1sp7b6yr9i",
        "outputId": "70e1ad43-a671-4b96-d815-717bfda45553"
      },
      "execution_count": null,
      "outputs": [
        {
          "output_type": "stream",
          "name": "stdout",
          "text": [
            "[0.10668095 0.09112789 0.06969824 ... 0.18019256 0.19250341 0.14439012]\n"
          ]
        }
      ]
    },
    {
      "cell_type": "code",
      "source": [
        "fig, (ax1, ax2) = plt.subplots(1, 2)\n",
        "fig.set_size_inches(18, 7)\n",
        "\n",
        "ax1.set_xlim([-0.1, 1])\n",
        "\n",
        "ax1.set_ylim([0, 300])\n",
        "\n",
        "clusterer = KMeans(n_clusters=50, random_state=10)\n",
        "\n",
        "cluster_labels = clusterer.fit_predict(vectorized_docs_array)\n",
        "\n",
        "silhouette_avg = silhouette_score(vectorized_docs_array, cluster_labels)\n",
        "\n",
        "print(\n",
        "    \"For n_clusters =\",\n",
        "    50,\n",
        "    \"The average silhouette_score is :\",\n",
        "    silhouette_avg,\n",
        ")\n",
        "\n",
        "sample_silhouette_values = silhouette_samples(vectorized_docs_array, cluster_labels)\n",
        "\n",
        "y_lower = 10\n",
        "for i in range(50):\n",
        "    # Aggregate the silhouette scores for samples belonging to\n",
        "    # cluster i, and sort them\n",
        "    ith_cluster_silhouette_values = sample_silhouette_values[cluster_labels == i]\n",
        "\n",
        "    ith_cluster_silhouette_values.sort()\n",
        "\n",
        "    size_cluster_i = ith_cluster_silhouette_values.shape[0]\n",
        "    y_upper = y_lower + size_cluster_i\n",
        "\n",
        "    color = cm.nipy_spectral(float(i) / 50)\n",
        "    ax1.fill_betweenx(\n",
        "        np.arange(y_lower, y_upper),\n",
        "        0,\n",
        "        ith_cluster_silhouette_values,\n",
        "        facecolor=color,\n",
        "        edgecolor=color,\n",
        "        alpha=0.7,\n",
        "    )\n",
        "\n",
        "# Label the silhouette plots with their cluster numbers at the middle\n",
        "ax1.text(-0.05, y_lower + 0.5 * size_cluster_i, str(i))\n",
        "\n",
        "# Compute the new y_lower for next plot\n",
        "y_lower = y_upper + 50  # 10 for the 0 samples\n",
        "\n",
        "ax1.set_title(\"The silhouette plot for the various clusters.\")\n",
        "ax1.set_xlabel(\"The silhouette coefficient values\")\n",
        "ax1.set_ylabel(\"Cluster label\")\n",
        "\n",
        "# The vertical line for average silhouette score of all the values\n",
        "ax1.axvline(x=silhouette_avg, color=\"red\", linestyle=\"--\")\n",
        "\n",
        "ax1.set_yticks([])  # Clear the yaxis labels / ticks\n",
        "ax1.set_xticks([-0.1, 0, 0.2, 0.4, 0.6, 0.8, 1])\n",
        "\n",
        "# 2nd Plot showing the actual clusters formed\n",
        "colors = cm.nipy_spectral(cluster_labels.astype(float) / 50)\n",
        "\n",
        "ax2.scatter(\n",
        "    vectorized_docs_array, vectorized_docs_array, marker=\".\", s=30, lw=0, alpha=0.7, c=colors, edgecolor=\"k\"\n",
        "    )\n",
        "\n",
        "# Labeling the clusters\n",
        "centers = clusterer.cluster_centers_\n",
        "# Draw white circles at cluster centers\n",
        "ax2.scatter(\n",
        "    centers[:, 0],\n",
        "    centers[:, 1],\n",
        "    marker=\"o\",\n",
        "    c=\"white\",\n",
        "    alpha=1,\n",
        "    s=200,\n",
        "    edgecolor=\"k\",\n",
        ")\n",
        "\n",
        "for i, c in enumerate(centers):\n",
        "    ax2.scatter(c[0], c[1], marker=\"$%d$\" % i, alpha=1, s=50, edgecolor=\"k\")\n",
        "\n",
        "ax2.set_title(\"The visualization of the clustered data.\")\n",
        "ax2.set_xlabel(\"Feature space for the 1st feature\")\n",
        "ax2.set_ylabel(\"Feature space for the 2nd feature\")\n",
        "\n",
        "plt.suptitle(\n",
        "    \"Silhouette analysis for MbkMeans clustering on sample data with n_clusters = %d\"\n",
        "    % 50,\n",
        "    fontsize=14,\n",
        "    fontweight=\"bold\",\n",
        ")\n",
        "\n",
        "plt.show()"
      ],
      "metadata": {
        "colab": {
          "base_uri": "https://localhost:8080/",
          "height": 833
        },
        "id": "2g_CPXHjrQ_a",
        "outputId": "ef489354-7f8b-45f2-b7ee-38a5f0bb0b4b"
      },
      "execution_count": null,
      "outputs": [
        {
          "output_type": "stream",
          "name": "stdout",
          "text": [
            "For n_clusters = 50 The average silhouette_score is : 0.2686087\n"
          ]
        },
        {
          "output_type": "error",
          "ename": "ValueError",
          "evalue": "ignored",
          "traceback": [
            "\u001b[0;31m---------------------------------------------------------------------------\u001b[0m",
            "\u001b[0;31mValueError\u001b[0m                                Traceback (most recent call last)",
            "\u001b[0;32m<ipython-input-60-0d516abde73a>\u001b[0m in \u001b[0;36m<module>\u001b[0;34m()\u001b[0m\n\u001b[1;32m     62\u001b[0m \u001b[0;34m\u001b[0m\u001b[0m\n\u001b[1;32m     63\u001b[0m ax2.scatter(\n\u001b[0;32m---> 64\u001b[0;31m     \u001b[0mvectorized_docs_array\u001b[0m\u001b[0;34m,\u001b[0m \u001b[0mvectorized_docs_array\u001b[0m\u001b[0;34m,\u001b[0m \u001b[0mmarker\u001b[0m\u001b[0;34m=\u001b[0m\u001b[0;34m\".\"\u001b[0m\u001b[0;34m,\u001b[0m \u001b[0ms\u001b[0m\u001b[0;34m=\u001b[0m\u001b[0;36m30\u001b[0m\u001b[0;34m,\u001b[0m \u001b[0mlw\u001b[0m\u001b[0;34m=\u001b[0m\u001b[0;36m0\u001b[0m\u001b[0;34m,\u001b[0m \u001b[0malpha\u001b[0m\u001b[0;34m=\u001b[0m\u001b[0;36m0.7\u001b[0m\u001b[0;34m,\u001b[0m \u001b[0mc\u001b[0m\u001b[0;34m=\u001b[0m\u001b[0mcolors\u001b[0m\u001b[0;34m,\u001b[0m \u001b[0medgecolor\u001b[0m\u001b[0;34m=\u001b[0m\u001b[0;34m\"k\"\u001b[0m\u001b[0;34m\u001b[0m\u001b[0;34m\u001b[0m\u001b[0m\n\u001b[0m\u001b[1;32m     65\u001b[0m     )\n\u001b[1;32m     66\u001b[0m \u001b[0;34m\u001b[0m\u001b[0m\n",
            "\u001b[0;32m/usr/local/lib/python3.7/dist-packages/matplotlib/__init__.py\u001b[0m in \u001b[0;36minner\u001b[0;34m(ax, data, *args, **kwargs)\u001b[0m\n\u001b[1;32m   1563\u001b[0m     \u001b[0;32mdef\u001b[0m \u001b[0minner\u001b[0m\u001b[0;34m(\u001b[0m\u001b[0max\u001b[0m\u001b[0;34m,\u001b[0m \u001b[0;34m*\u001b[0m\u001b[0margs\u001b[0m\u001b[0;34m,\u001b[0m \u001b[0mdata\u001b[0m\u001b[0;34m=\u001b[0m\u001b[0;32mNone\u001b[0m\u001b[0;34m,\u001b[0m \u001b[0;34m**\u001b[0m\u001b[0mkwargs\u001b[0m\u001b[0;34m)\u001b[0m\u001b[0;34m:\u001b[0m\u001b[0;34m\u001b[0m\u001b[0;34m\u001b[0m\u001b[0m\n\u001b[1;32m   1564\u001b[0m         \u001b[0;32mif\u001b[0m \u001b[0mdata\u001b[0m \u001b[0;32mis\u001b[0m \u001b[0;32mNone\u001b[0m\u001b[0;34m:\u001b[0m\u001b[0;34m\u001b[0m\u001b[0;34m\u001b[0m\u001b[0m\n\u001b[0;32m-> 1565\u001b[0;31m             \u001b[0;32mreturn\u001b[0m \u001b[0mfunc\u001b[0m\u001b[0;34m(\u001b[0m\u001b[0max\u001b[0m\u001b[0;34m,\u001b[0m \u001b[0;34m*\u001b[0m\u001b[0mmap\u001b[0m\u001b[0;34m(\u001b[0m\u001b[0msanitize_sequence\u001b[0m\u001b[0;34m,\u001b[0m \u001b[0margs\u001b[0m\u001b[0;34m)\u001b[0m\u001b[0;34m,\u001b[0m \u001b[0;34m**\u001b[0m\u001b[0mkwargs\u001b[0m\u001b[0;34m)\u001b[0m\u001b[0;34m\u001b[0m\u001b[0;34m\u001b[0m\u001b[0m\n\u001b[0m\u001b[1;32m   1566\u001b[0m \u001b[0;34m\u001b[0m\u001b[0m\n\u001b[1;32m   1567\u001b[0m         \u001b[0mbound\u001b[0m \u001b[0;34m=\u001b[0m \u001b[0mnew_sig\u001b[0m\u001b[0;34m.\u001b[0m\u001b[0mbind\u001b[0m\u001b[0;34m(\u001b[0m\u001b[0max\u001b[0m\u001b[0;34m,\u001b[0m \u001b[0;34m*\u001b[0m\u001b[0margs\u001b[0m\u001b[0;34m,\u001b[0m \u001b[0;34m**\u001b[0m\u001b[0mkwargs\u001b[0m\u001b[0;34m)\u001b[0m\u001b[0;34m\u001b[0m\u001b[0;34m\u001b[0m\u001b[0m\n",
            "\u001b[0;32m/usr/local/lib/python3.7/dist-packages/matplotlib/cbook/deprecation.py\u001b[0m in \u001b[0;36mwrapper\u001b[0;34m(*args, **kwargs)\u001b[0m\n\u001b[1;32m    356\u001b[0m                 \u001b[0;34mf\"%(removal)s.  If any parameter follows {name!r}, they \"\u001b[0m\u001b[0;34m\u001b[0m\u001b[0;34m\u001b[0m\u001b[0m\n\u001b[1;32m    357\u001b[0m                 f\"should be pass as keyword, not positionally.\")\n\u001b[0;32m--> 358\u001b[0;31m         \u001b[0;32mreturn\u001b[0m \u001b[0mfunc\u001b[0m\u001b[0;34m(\u001b[0m\u001b[0;34m*\u001b[0m\u001b[0margs\u001b[0m\u001b[0;34m,\u001b[0m \u001b[0;34m**\u001b[0m\u001b[0mkwargs\u001b[0m\u001b[0;34m)\u001b[0m\u001b[0;34m\u001b[0m\u001b[0;34m\u001b[0m\u001b[0m\n\u001b[0m\u001b[1;32m    359\u001b[0m \u001b[0;34m\u001b[0m\u001b[0m\n\u001b[1;32m    360\u001b[0m     \u001b[0;32mreturn\u001b[0m \u001b[0mwrapper\u001b[0m\u001b[0;34m\u001b[0m\u001b[0;34m\u001b[0m\u001b[0m\n",
            "\u001b[0;32m/usr/local/lib/python3.7/dist-packages/matplotlib/axes/_axes.py\u001b[0m in \u001b[0;36mscatter\u001b[0;34m(self, x, y, s, c, marker, cmap, norm, vmin, vmax, alpha, linewidths, verts, edgecolors, plotnonfinite, **kwargs)\u001b[0m\n\u001b[1;32m   4401\u001b[0m             self._parse_scatter_color_args(\n\u001b[1;32m   4402\u001b[0m                 \u001b[0mc\u001b[0m\u001b[0;34m,\u001b[0m \u001b[0medgecolors\u001b[0m\u001b[0;34m,\u001b[0m \u001b[0mkwargs\u001b[0m\u001b[0;34m,\u001b[0m \u001b[0mx\u001b[0m\u001b[0;34m.\u001b[0m\u001b[0msize\u001b[0m\u001b[0;34m,\u001b[0m\u001b[0;34m\u001b[0m\u001b[0;34m\u001b[0m\u001b[0m\n\u001b[0;32m-> 4403\u001b[0;31m                 get_next_color_func=self._get_patches_for_fill.get_next_color)\n\u001b[0m\u001b[1;32m   4404\u001b[0m \u001b[0;34m\u001b[0m\u001b[0m\n\u001b[1;32m   4405\u001b[0m         \u001b[0;32mif\u001b[0m \u001b[0mplotnonfinite\u001b[0m \u001b[0;32mand\u001b[0m \u001b[0mcolors\u001b[0m \u001b[0;32mis\u001b[0m \u001b[0;32mNone\u001b[0m\u001b[0;34m:\u001b[0m\u001b[0;34m\u001b[0m\u001b[0;34m\u001b[0m\u001b[0m\n",
            "\u001b[0;32m/usr/local/lib/python3.7/dist-packages/matplotlib/axes/_axes.py\u001b[0m in \u001b[0;36m_parse_scatter_color_args\u001b[0;34m(c, edgecolors, kwargs, xsize, get_next_color_func)\u001b[0m\n\u001b[1;32m   4250\u001b[0m                     \u001b[0;31m# NB: remember that a single color is also acceptable.\u001b[0m\u001b[0;34m\u001b[0m\u001b[0;34m\u001b[0m\u001b[0;34m\u001b[0m\u001b[0m\n\u001b[1;32m   4251\u001b[0m                     \u001b[0;31m# Besides *colors* will be an empty array if c == 'none'.\u001b[0m\u001b[0;34m\u001b[0m\u001b[0;34m\u001b[0m\u001b[0;34m\u001b[0m\u001b[0m\n\u001b[0;32m-> 4252\u001b[0;31m                     \u001b[0;32mraise\u001b[0m \u001b[0minvalid_shape_exception\u001b[0m\u001b[0;34m(\u001b[0m\u001b[0mlen\u001b[0m\u001b[0;34m(\u001b[0m\u001b[0mcolors\u001b[0m\u001b[0;34m)\u001b[0m\u001b[0;34m,\u001b[0m \u001b[0mxsize\u001b[0m\u001b[0;34m)\u001b[0m\u001b[0;34m\u001b[0m\u001b[0;34m\u001b[0m\u001b[0m\n\u001b[0m\u001b[1;32m   4253\u001b[0m         \u001b[0;32melse\u001b[0m\u001b[0;34m:\u001b[0m\u001b[0;34m\u001b[0m\u001b[0;34m\u001b[0m\u001b[0m\n\u001b[1;32m   4254\u001b[0m             \u001b[0mcolors\u001b[0m \u001b[0;34m=\u001b[0m \u001b[0;32mNone\u001b[0m  \u001b[0;31m# use cmap, norm after collection is created\u001b[0m\u001b[0;34m\u001b[0m\u001b[0;34m\u001b[0m\u001b[0m\n",
            "\u001b[0;31mValueError\u001b[0m: 'c' argument has 2322 elements, which is inconsistent with 'x' and 'y' with size 232200."
          ]
        },
        {
          "output_type": "display_data",
          "data": {
            "text/plain": [
              "<Figure size 1296x504 with 2 Axes>"
            ],
            "image/png": "[encoded data removed]"
          },
          "metadata": {
            "needs_background": "light"
          }
        }
      ]
    },
    {
      "cell_type": "code",
      "source": [
        "from sklearn.manifold import TSNE\n",
        "\n",
        "m = TSNE(learning_rate=50)"
      ],
      "metadata": {
        "id": "Y17RDVFk2eOR"
      },
      "execution_count": null,
      "outputs": []
    },
    {
      "cell_type": "code",
      "source": [
        "from gensim.models.word2vec import Word2Vec\n",
        "from sklearn.manifold import TSNE\n",
        "from sklearn.datasets import fetch_20newsgroups\n",
        "import re\n",
        "import matplotlib.pyplot as plt\n",
        "\n",
        "# download example data ( may take a while)\n",
        "train = fetch_20newsgroups()\n",
        "\n",
        "def clean(text):\n",
        "    \"\"\"Remove posting header, split by sentences and words, keep only letters\"\"\"\n",
        "    lines = re.split('[?!.:]\\s', re.sub('^.*Lines: \\d+', '', re.sub('\\n', ' ', text)))\n",
        "    return [re.sub('[^a-zA-Z]', ' ', line).lower().split() for line in lines]\n",
        "\n",
        "sentences = [line for text in train.data for line in clean(text)]\n",
        "\n",
        "model = Word2Vec(sentences, workers=4, size=100, min_count=50, window=10, sample=1e-3)\n",
        "\n",
        "print (model.wv.most_similar('memory'))\n",
        "\n",
        "X = model.wv[model.wv.vocab]\n",
        "\n",
        "tsne = TSNE(n_components=2)\n",
        "X_tsne = tsne.fit_transform(X)\n",
        "\n",
        "plt.scatter(X_tsne[:, 0], X_tsne[:, 1])\n",
        "plt.show()"
      ],
      "metadata": {
        "colab": {
          "base_uri": "https://localhost:8080/",
          "height": 370
        },
        "id": "G1En50IdillA",
        "outputId": "7a1c1ba2-1c07-4c1d-d7b4-ed83754f8866"
      },
      "execution_count": null,
      "outputs": [
        {
          "output_type": "stream",
          "name": "stdout",
          "text": [
            "[('cpu', 0.8189672231674194), ('fixed', 0.7881187200546265), ('cache', 0.7878460884094238), ('configuration', 0.774992048740387), ('colour', 0.7695448398590088), ('mode', 0.7628228068351746), ('ram', 0.7591257095336914), ('timing', 0.7589978575706482), ('video', 0.7492378950119019), ('screen', 0.7475771903991699)]\n"
          ]
        },
        {
          "output_type": "stream",
          "name": "stderr",
          "text": [
            "/usr/local/lib/python3.7/dist-packages/sklearn/manifold/_t_sne.py:783: FutureWarning: The default initialization in TSNE will change from 'random' to 'pca' in 1.2.\n",
            "  FutureWarning,\n",
            "/usr/local/lib/python3.7/dist-packages/sklearn/manifold/_t_sne.py:793: FutureWarning: The default learning rate in TSNE will change from 200.0 to 'auto' in 1.2.\n",
            "  FutureWarning,\n"
          ]
        },
        {
          "output_type": "display_data",
          "data": {
            "text/plain": [
              "<Figure size 432x288 with 1 Axes>"
            ],
            "image/png": "[encoded data removed]"
          },
          "metadata": {
            "needs_background": "light"
          }
        }
      ]
    }
  ]
}